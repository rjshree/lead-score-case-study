{
 "cells": [
  {
   "cell_type": "markdown",
   "id": "a19f8fdc",
   "metadata": {},
   "source": [
    "# LEAD SCORING CASE STUDY"
   ]
  },
  {
   "cell_type": "markdown",
   "id": "6d86eb9c",
   "metadata": {},
   "source": [
    "X Education wants to select the most promising leads, i.e. the leads that are most likely to convert into paying customers. The company requires you to build a model wherein you need to assign a lead score to each of the leads such that the customers with higher lead score have a higher conversion chance and the customers with lower lead score have a lower conversion chance. The CEO, in particular, has given a ballpark of the target lead conversion rate to be around 80%."
   ]
  },
  {
   "cell_type": "code",
   "execution_count": 1,
   "id": "715aa009",
   "metadata": {},
   "outputs": [],
   "source": [
    "# Supressing Warnings.\n",
    "\n",
    "import warnings\n",
    "warnings.filterwarnings(\"ignore\")\n",
    "\n",
    "# Importing Necessary Libraries.\n",
    "\n",
    "import numpy as np\n",
    "import pandas as pd\n",
    "import matplotlib.pyplot as plt\n",
    "import seaborn as sns\n",
    "%matplotlib inline"
   ]
  },
  {
   "cell_type": "code",
   "execution_count": 2,
   "id": "c8395293",
   "metadata": {},
   "outputs": [],
   "source": [
    "# Importing the Dataset.\n",
    "\n",
    "leads_data = pd.read_csv(\"Leads.csv\")"
   ]
  },
  {
   "cell_type": "markdown",
   "id": "4b736f4f",
   "metadata": {},
   "source": [
    "## Analysing the dataset"
   ]
  },
  {
   "cell_type": "code",
   "execution_count": 3,
   "id": "27d964bc",
   "metadata": {},
   "outputs": [
    {
     "data": {
      "text/html": [
       "<div>\n",
       "<style scoped>\n",
       "    .dataframe tbody tr th:only-of-type {\n",
       "        vertical-align: middle;\n",
       "    }\n",
       "\n",
       "    .dataframe tbody tr th {\n",
       "        vertical-align: top;\n",
       "    }\n",
       "\n",
       "    .dataframe thead th {\n",
       "        text-align: right;\n",
       "    }\n",
       "</style>\n",
       "<table border=\"1\" class=\"dataframe\">\n",
       "  <thead>\n",
       "    <tr style=\"text-align: right;\">\n",
       "      <th></th>\n",
       "      <th>Prospect ID</th>\n",
       "      <th>Lead Number</th>\n",
       "      <th>Lead Origin</th>\n",
       "      <th>Lead Source</th>\n",
       "      <th>Do Not Email</th>\n",
       "      <th>Do Not Call</th>\n",
       "      <th>Converted</th>\n",
       "      <th>TotalVisits</th>\n",
       "      <th>Total Time Spent on Website</th>\n",
       "      <th>Page Views Per Visit</th>\n",
       "      <th>...</th>\n",
       "      <th>Get updates on DM Content</th>\n",
       "      <th>Lead Profile</th>\n",
       "      <th>City</th>\n",
       "      <th>Asymmetrique Activity Index</th>\n",
       "      <th>Asymmetrique Profile Index</th>\n",
       "      <th>Asymmetrique Activity Score</th>\n",
       "      <th>Asymmetrique Profile Score</th>\n",
       "      <th>I agree to pay the amount through cheque</th>\n",
       "      <th>A free copy of Mastering The Interview</th>\n",
       "      <th>Last Notable Activity</th>\n",
       "    </tr>\n",
       "  </thead>\n",
       "  <tbody>\n",
       "    <tr>\n",
       "      <th>0</th>\n",
       "      <td>7927b2df-8bba-4d29-b9a2-b6e0beafe620</td>\n",
       "      <td>660737</td>\n",
       "      <td>API</td>\n",
       "      <td>Olark Chat</td>\n",
       "      <td>No</td>\n",
       "      <td>No</td>\n",
       "      <td>0</td>\n",
       "      <td>0.0</td>\n",
       "      <td>0</td>\n",
       "      <td>0.0</td>\n",
       "      <td>...</td>\n",
       "      <td>No</td>\n",
       "      <td>Select</td>\n",
       "      <td>Select</td>\n",
       "      <td>02.Medium</td>\n",
       "      <td>02.Medium</td>\n",
       "      <td>15.0</td>\n",
       "      <td>15.0</td>\n",
       "      <td>No</td>\n",
       "      <td>No</td>\n",
       "      <td>Modified</td>\n",
       "    </tr>\n",
       "    <tr>\n",
       "      <th>1</th>\n",
       "      <td>2a272436-5132-4136-86fa-dcc88c88f482</td>\n",
       "      <td>660728</td>\n",
       "      <td>API</td>\n",
       "      <td>Organic Search</td>\n",
       "      <td>No</td>\n",
       "      <td>No</td>\n",
       "      <td>0</td>\n",
       "      <td>5.0</td>\n",
       "      <td>674</td>\n",
       "      <td>2.5</td>\n",
       "      <td>...</td>\n",
       "      <td>No</td>\n",
       "      <td>Select</td>\n",
       "      <td>Select</td>\n",
       "      <td>02.Medium</td>\n",
       "      <td>02.Medium</td>\n",
       "      <td>15.0</td>\n",
       "      <td>15.0</td>\n",
       "      <td>No</td>\n",
       "      <td>No</td>\n",
       "      <td>Email Opened</td>\n",
       "    </tr>\n",
       "    <tr>\n",
       "      <th>2</th>\n",
       "      <td>8cc8c611-a219-4f35-ad23-fdfd2656bd8a</td>\n",
       "      <td>660727</td>\n",
       "      <td>Landing Page Submission</td>\n",
       "      <td>Direct Traffic</td>\n",
       "      <td>No</td>\n",
       "      <td>No</td>\n",
       "      <td>1</td>\n",
       "      <td>2.0</td>\n",
       "      <td>1532</td>\n",
       "      <td>2.0</td>\n",
       "      <td>...</td>\n",
       "      <td>No</td>\n",
       "      <td>Potential Lead</td>\n",
       "      <td>Mumbai</td>\n",
       "      <td>02.Medium</td>\n",
       "      <td>01.High</td>\n",
       "      <td>14.0</td>\n",
       "      <td>20.0</td>\n",
       "      <td>No</td>\n",
       "      <td>Yes</td>\n",
       "      <td>Email Opened</td>\n",
       "    </tr>\n",
       "    <tr>\n",
       "      <th>3</th>\n",
       "      <td>0cc2df48-7cf4-4e39-9de9-19797f9b38cc</td>\n",
       "      <td>660719</td>\n",
       "      <td>Landing Page Submission</td>\n",
       "      <td>Direct Traffic</td>\n",
       "      <td>No</td>\n",
       "      <td>No</td>\n",
       "      <td>0</td>\n",
       "      <td>1.0</td>\n",
       "      <td>305</td>\n",
       "      <td>1.0</td>\n",
       "      <td>...</td>\n",
       "      <td>No</td>\n",
       "      <td>Select</td>\n",
       "      <td>Mumbai</td>\n",
       "      <td>02.Medium</td>\n",
       "      <td>01.High</td>\n",
       "      <td>13.0</td>\n",
       "      <td>17.0</td>\n",
       "      <td>No</td>\n",
       "      <td>No</td>\n",
       "      <td>Modified</td>\n",
       "    </tr>\n",
       "    <tr>\n",
       "      <th>4</th>\n",
       "      <td>3256f628-e534-4826-9d63-4a8b88782852</td>\n",
       "      <td>660681</td>\n",
       "      <td>Landing Page Submission</td>\n",
       "      <td>Google</td>\n",
       "      <td>No</td>\n",
       "      <td>No</td>\n",
       "      <td>1</td>\n",
       "      <td>2.0</td>\n",
       "      <td>1428</td>\n",
       "      <td>1.0</td>\n",
       "      <td>...</td>\n",
       "      <td>No</td>\n",
       "      <td>Select</td>\n",
       "      <td>Mumbai</td>\n",
       "      <td>02.Medium</td>\n",
       "      <td>01.High</td>\n",
       "      <td>15.0</td>\n",
       "      <td>18.0</td>\n",
       "      <td>No</td>\n",
       "      <td>No</td>\n",
       "      <td>Modified</td>\n",
       "    </tr>\n",
       "  </tbody>\n",
       "</table>\n",
       "<p>5 rows × 37 columns</p>\n",
       "</div>"
      ],
      "text/plain": [
       "                            Prospect ID  Lead Number              Lead Origin  \\\n",
       "0  7927b2df-8bba-4d29-b9a2-b6e0beafe620       660737                      API   \n",
       "1  2a272436-5132-4136-86fa-dcc88c88f482       660728                      API   \n",
       "2  8cc8c611-a219-4f35-ad23-fdfd2656bd8a       660727  Landing Page Submission   \n",
       "3  0cc2df48-7cf4-4e39-9de9-19797f9b38cc       660719  Landing Page Submission   \n",
       "4  3256f628-e534-4826-9d63-4a8b88782852       660681  Landing Page Submission   \n",
       "\n",
       "      Lead Source Do Not Email Do Not Call  Converted  TotalVisits  \\\n",
       "0      Olark Chat           No          No          0          0.0   \n",
       "1  Organic Search           No          No          0          5.0   \n",
       "2  Direct Traffic           No          No          1          2.0   \n",
       "3  Direct Traffic           No          No          0          1.0   \n",
       "4          Google           No          No          1          2.0   \n",
       "\n",
       "   Total Time Spent on Website  Page Views Per Visit  ...  \\\n",
       "0                            0                   0.0  ...   \n",
       "1                          674                   2.5  ...   \n",
       "2                         1532                   2.0  ...   \n",
       "3                          305                   1.0  ...   \n",
       "4                         1428                   1.0  ...   \n",
       "\n",
       "  Get updates on DM Content    Lead Profile    City  \\\n",
       "0                        No          Select  Select   \n",
       "1                        No          Select  Select   \n",
       "2                        No  Potential Lead  Mumbai   \n",
       "3                        No          Select  Mumbai   \n",
       "4                        No          Select  Mumbai   \n",
       "\n",
       "  Asymmetrique Activity Index Asymmetrique Profile Index  \\\n",
       "0                   02.Medium                  02.Medium   \n",
       "1                   02.Medium                  02.Medium   \n",
       "2                   02.Medium                    01.High   \n",
       "3                   02.Medium                    01.High   \n",
       "4                   02.Medium                    01.High   \n",
       "\n",
       "  Asymmetrique Activity Score Asymmetrique Profile Score  \\\n",
       "0                        15.0                       15.0   \n",
       "1                        15.0                       15.0   \n",
       "2                        14.0                       20.0   \n",
       "3                        13.0                       17.0   \n",
       "4                        15.0                       18.0   \n",
       "\n",
       "  I agree to pay the amount through cheque  \\\n",
       "0                                       No   \n",
       "1                                       No   \n",
       "2                                       No   \n",
       "3                                       No   \n",
       "4                                       No   \n",
       "\n",
       "  A free copy of Mastering The Interview Last Notable Activity  \n",
       "0                                     No              Modified  \n",
       "1                                     No          Email Opened  \n",
       "2                                    Yes          Email Opened  \n",
       "3                                     No              Modified  \n",
       "4                                     No              Modified  \n",
       "\n",
       "[5 rows x 37 columns]"
      ]
     },
     "execution_count": 3,
     "metadata": {},
     "output_type": "execute_result"
    }
   ],
   "source": [
    "leads_data.head()"
   ]
  },
  {
   "cell_type": "code",
   "execution_count": 4,
   "id": "00b413f9",
   "metadata": {},
   "outputs": [
    {
     "data": {
      "text/plain": [
       "(9240, 37)"
      ]
     },
     "execution_count": 4,
     "metadata": {},
     "output_type": "execute_result"
    }
   ],
   "source": [
    "leads_data.shape"
   ]
  },
  {
   "cell_type": "code",
   "execution_count": 5,
   "id": "05ee89f5",
   "metadata": {},
   "outputs": [
    {
     "data": {
      "text/html": [
       "<div>\n",
       "<style scoped>\n",
       "    .dataframe tbody tr th:only-of-type {\n",
       "        vertical-align: middle;\n",
       "    }\n",
       "\n",
       "    .dataframe tbody tr th {\n",
       "        vertical-align: top;\n",
       "    }\n",
       "\n",
       "    .dataframe thead th {\n",
       "        text-align: right;\n",
       "    }\n",
       "</style>\n",
       "<table border=\"1\" class=\"dataframe\">\n",
       "  <thead>\n",
       "    <tr style=\"text-align: right;\">\n",
       "      <th></th>\n",
       "      <th>Lead Number</th>\n",
       "      <th>Converted</th>\n",
       "      <th>TotalVisits</th>\n",
       "      <th>Total Time Spent on Website</th>\n",
       "      <th>Page Views Per Visit</th>\n",
       "      <th>Asymmetrique Activity Score</th>\n",
       "      <th>Asymmetrique Profile Score</th>\n",
       "    </tr>\n",
       "  </thead>\n",
       "  <tbody>\n",
       "    <tr>\n",
       "      <th>count</th>\n",
       "      <td>9240.000000</td>\n",
       "      <td>9240.000000</td>\n",
       "      <td>9103.000000</td>\n",
       "      <td>9240.000000</td>\n",
       "      <td>9103.000000</td>\n",
       "      <td>5022.000000</td>\n",
       "      <td>5022.000000</td>\n",
       "    </tr>\n",
       "    <tr>\n",
       "      <th>mean</th>\n",
       "      <td>617188.435606</td>\n",
       "      <td>0.385390</td>\n",
       "      <td>3.445238</td>\n",
       "      <td>487.698268</td>\n",
       "      <td>2.362820</td>\n",
       "      <td>14.306252</td>\n",
       "      <td>16.344883</td>\n",
       "    </tr>\n",
       "    <tr>\n",
       "      <th>std</th>\n",
       "      <td>23405.995698</td>\n",
       "      <td>0.486714</td>\n",
       "      <td>4.854853</td>\n",
       "      <td>548.021466</td>\n",
       "      <td>2.161418</td>\n",
       "      <td>1.386694</td>\n",
       "      <td>1.811395</td>\n",
       "    </tr>\n",
       "    <tr>\n",
       "      <th>min</th>\n",
       "      <td>579533.000000</td>\n",
       "      <td>0.000000</td>\n",
       "      <td>0.000000</td>\n",
       "      <td>0.000000</td>\n",
       "      <td>0.000000</td>\n",
       "      <td>7.000000</td>\n",
       "      <td>11.000000</td>\n",
       "    </tr>\n",
       "    <tr>\n",
       "      <th>25%</th>\n",
       "      <td>596484.500000</td>\n",
       "      <td>0.000000</td>\n",
       "      <td>1.000000</td>\n",
       "      <td>12.000000</td>\n",
       "      <td>1.000000</td>\n",
       "      <td>14.000000</td>\n",
       "      <td>15.000000</td>\n",
       "    </tr>\n",
       "    <tr>\n",
       "      <th>50%</th>\n",
       "      <td>615479.000000</td>\n",
       "      <td>0.000000</td>\n",
       "      <td>3.000000</td>\n",
       "      <td>248.000000</td>\n",
       "      <td>2.000000</td>\n",
       "      <td>14.000000</td>\n",
       "      <td>16.000000</td>\n",
       "    </tr>\n",
       "    <tr>\n",
       "      <th>75%</th>\n",
       "      <td>637387.250000</td>\n",
       "      <td>1.000000</td>\n",
       "      <td>5.000000</td>\n",
       "      <td>936.000000</td>\n",
       "      <td>3.000000</td>\n",
       "      <td>15.000000</td>\n",
       "      <td>18.000000</td>\n",
       "    </tr>\n",
       "    <tr>\n",
       "      <th>max</th>\n",
       "      <td>660737.000000</td>\n",
       "      <td>1.000000</td>\n",
       "      <td>251.000000</td>\n",
       "      <td>2272.000000</td>\n",
       "      <td>55.000000</td>\n",
       "      <td>18.000000</td>\n",
       "      <td>20.000000</td>\n",
       "    </tr>\n",
       "  </tbody>\n",
       "</table>\n",
       "</div>"
      ],
      "text/plain": [
       "         Lead Number    Converted  TotalVisits  Total Time Spent on Website  \\\n",
       "count    9240.000000  9240.000000  9103.000000                  9240.000000   \n",
       "mean   617188.435606     0.385390     3.445238                   487.698268   \n",
       "std     23405.995698     0.486714     4.854853                   548.021466   \n",
       "min    579533.000000     0.000000     0.000000                     0.000000   \n",
       "25%    596484.500000     0.000000     1.000000                    12.000000   \n",
       "50%    615479.000000     0.000000     3.000000                   248.000000   \n",
       "75%    637387.250000     1.000000     5.000000                   936.000000   \n",
       "max    660737.000000     1.000000   251.000000                  2272.000000   \n",
       "\n",
       "       Page Views Per Visit  Asymmetrique Activity Score  \\\n",
       "count           9103.000000                  5022.000000   \n",
       "mean               2.362820                    14.306252   \n",
       "std                2.161418                     1.386694   \n",
       "min                0.000000                     7.000000   \n",
       "25%                1.000000                    14.000000   \n",
       "50%                2.000000                    14.000000   \n",
       "75%                3.000000                    15.000000   \n",
       "max               55.000000                    18.000000   \n",
       "\n",
       "       Asymmetrique Profile Score  \n",
       "count                 5022.000000  \n",
       "mean                    16.344883  \n",
       "std                      1.811395  \n",
       "min                     11.000000  \n",
       "25%                     15.000000  \n",
       "50%                     16.000000  \n",
       "75%                     18.000000  \n",
       "max                     20.000000  "
      ]
     },
     "execution_count": 5,
     "metadata": {},
     "output_type": "execute_result"
    }
   ],
   "source": [
    "# Let's check the statistical aspects of the dataframe.\n",
    "\n",
    "leads_data.describe()"
   ]
  },
  {
   "cell_type": "code",
   "execution_count": 6,
   "id": "bd376f69",
   "metadata": {},
   "outputs": [
    {
     "name": "stdout",
     "output_type": "stream",
     "text": [
      "<class 'pandas.core.frame.DataFrame'>\n",
      "RangeIndex: 9240 entries, 0 to 9239\n",
      "Data columns (total 37 columns):\n",
      " #   Column                                         Non-Null Count  Dtype  \n",
      "---  ------                                         --------------  -----  \n",
      " 0   Prospect ID                                    9240 non-null   object \n",
      " 1   Lead Number                                    9240 non-null   int64  \n",
      " 2   Lead Origin                                    9240 non-null   object \n",
      " 3   Lead Source                                    9204 non-null   object \n",
      " 4   Do Not Email                                   9240 non-null   object \n",
      " 5   Do Not Call                                    9240 non-null   object \n",
      " 6   Converted                                      9240 non-null   int64  \n",
      " 7   TotalVisits                                    9103 non-null   float64\n",
      " 8   Total Time Spent on Website                    9240 non-null   int64  \n",
      " 9   Page Views Per Visit                           9103 non-null   float64\n",
      " 10  Last Activity                                  9137 non-null   object \n",
      " 11  Country                                        6779 non-null   object \n",
      " 12  Specialization                                 7802 non-null   object \n",
      " 13  How did you hear about X Education             7033 non-null   object \n",
      " 14  What is your current occupation                6550 non-null   object \n",
      " 15  What matters most to you in choosing a course  6531 non-null   object \n",
      " 16  Search                                         9240 non-null   object \n",
      " 17  Magazine                                       9240 non-null   object \n",
      " 18  Newspaper Article                              9240 non-null   object \n",
      " 19  X Education Forums                             9240 non-null   object \n",
      " 20  Newspaper                                      9240 non-null   object \n",
      " 21  Digital Advertisement                          9240 non-null   object \n",
      " 22  Through Recommendations                        9240 non-null   object \n",
      " 23  Receive More Updates About Our Courses         9240 non-null   object \n",
      " 24  Tags                                           5887 non-null   object \n",
      " 25  Lead Quality                                   4473 non-null   object \n",
      " 26  Update me on Supply Chain Content              9240 non-null   object \n",
      " 27  Get updates on DM Content                      9240 non-null   object \n",
      " 28  Lead Profile                                   6531 non-null   object \n",
      " 29  City                                           7820 non-null   object \n",
      " 30  Asymmetrique Activity Index                    5022 non-null   object \n",
      " 31  Asymmetrique Profile Index                     5022 non-null   object \n",
      " 32  Asymmetrique Activity Score                    5022 non-null   float64\n",
      " 33  Asymmetrique Profile Score                     5022 non-null   float64\n",
      " 34  I agree to pay the amount through cheque       9240 non-null   object \n",
      " 35  A free copy of Mastering The Interview         9240 non-null   object \n",
      " 36  Last Notable Activity                          9240 non-null   object \n",
      "dtypes: float64(4), int64(3), object(30)\n",
      "memory usage: 2.6+ MB\n"
     ]
    }
   ],
   "source": [
    "# Let's check the basic info of each column.\n",
    "\n",
    "leads_data.info()"
   ]
  },
  {
   "cell_type": "code",
   "execution_count": 7,
   "id": "d8661db7",
   "metadata": {},
   "outputs": [
    {
     "data": {
      "text/plain": [
       "Prospect ID                                       0.000000\n",
       "Lead Number                                       0.000000\n",
       "Lead Origin                                       0.000000\n",
       "Lead Source                                       0.389610\n",
       "Do Not Email                                      0.000000\n",
       "Do Not Call                                       0.000000\n",
       "Converted                                         0.000000\n",
       "TotalVisits                                       1.482684\n",
       "Total Time Spent on Website                       0.000000\n",
       "Page Views Per Visit                              1.482684\n",
       "Last Activity                                     1.114719\n",
       "Country                                          26.634199\n",
       "Specialization                                   15.562771\n",
       "How did you hear about X Education               23.885281\n",
       "What is your current occupation                  29.112554\n",
       "What matters most to you in choosing a course    29.318182\n",
       "Search                                            0.000000\n",
       "Magazine                                          0.000000\n",
       "Newspaper Article                                 0.000000\n",
       "X Education Forums                                0.000000\n",
       "Newspaper                                         0.000000\n",
       "Digital Advertisement                             0.000000\n",
       "Through Recommendations                           0.000000\n",
       "Receive More Updates About Our Courses            0.000000\n",
       "Tags                                             36.287879\n",
       "Lead Quality                                     51.590909\n",
       "Update me on Supply Chain Content                 0.000000\n",
       "Get updates on DM Content                         0.000000\n",
       "Lead Profile                                     29.318182\n",
       "City                                             15.367965\n",
       "Asymmetrique Activity Index                      45.649351\n",
       "Asymmetrique Profile Index                       45.649351\n",
       "Asymmetrique Activity Score                      45.649351\n",
       "Asymmetrique Profile Score                       45.649351\n",
       "I agree to pay the amount through cheque          0.000000\n",
       "A free copy of Mastering The Interview            0.000000\n",
       "Last Notable Activity                             0.000000\n",
       "dtype: float64"
      ]
     },
     "execution_count": 7,
     "metadata": {},
     "output_type": "execute_result"
    }
   ],
   "source": [
    "#Total null values present in the dataset\n",
    "leads_data.isnull().mean()*100"
   ]
  },
  {
   "cell_type": "markdown",
   "id": "af0b876b",
   "metadata": {},
   "source": [
    "- Removing the columns having more than 40% of null values as building models with those columns wont be reliable."
   ]
  },
  {
   "cell_type": "markdown",
   "id": "709bcc26",
   "metadata": {},
   "source": [
    "### Data Preparation"
   ]
  },
  {
   "cell_type": "code",
   "execution_count": 8,
   "id": "3d372815",
   "metadata": {},
   "outputs": [],
   "source": [
    "# Dropping \"Prospect ID\" and \"Lead Number\" column as it wont add value.\n",
    "\n",
    "leads_data.drop([\"Prospect ID\", \"Lead Number\"], axis = 1, inplace = True)"
   ]
  },
  {
   "cell_type": "code",
   "execution_count": 9,
   "id": "bf77a2f1",
   "metadata": {},
   "outputs": [],
   "source": [
    "# Replacing the level \"Select\" in categorical variables with NaN values.\n",
    "\n",
    "leads_data = leads_data.replace(\"Select\", np.nan)"
   ]
  },
  {
   "cell_type": "code",
   "execution_count": 10,
   "id": "d97fcb96",
   "metadata": {},
   "outputs": [],
   "source": [
    "# Dropping columns with more than 40% missing values.\n",
    "\n",
    "cols_to_drop = [cols for cols in leads_data.columns if((100*(leads_data[cols].isnull().sum()/len(leads_data.index))) >= 40)]\n",
    "\n",
    "leads_data.drop(cols_to_drop, axis = 1, inplace = True)"
   ]
  },
  {
   "cell_type": "code",
   "execution_count": 11,
   "id": "ee726fc6",
   "metadata": {},
   "outputs": [
    {
     "data": {
      "text/plain": [
       "Lead Origin                                       0.00\n",
       "Lead Source                                       0.39\n",
       "Do Not Email                                      0.00\n",
       "Do Not Call                                       0.00\n",
       "Converted                                         0.00\n",
       "TotalVisits                                       1.48\n",
       "Total Time Spent on Website                       0.00\n",
       "Page Views Per Visit                              1.48\n",
       "Last Activity                                     1.11\n",
       "Country                                          26.63\n",
       "Specialization                                   36.58\n",
       "What is your current occupation                  29.11\n",
       "What matters most to you in choosing a course    29.32\n",
       "Search                                            0.00\n",
       "Magazine                                          0.00\n",
       "Newspaper Article                                 0.00\n",
       "X Education Forums                                0.00\n",
       "Newspaper                                         0.00\n",
       "Digital Advertisement                             0.00\n",
       "Through Recommendations                           0.00\n",
       "Receive More Updates About Our Courses            0.00\n",
       "Tags                                             36.29\n",
       "Update me on Supply Chain Content                 0.00\n",
       "Get updates on DM Content                         0.00\n",
       "City                                             39.71\n",
       "I agree to pay the amount through cheque          0.00\n",
       "A free copy of Mastering The Interview            0.00\n",
       "Last Notable Activity                             0.00\n",
       "dtype: float64"
      ]
     },
     "execution_count": 11,
     "metadata": {},
     "output_type": "execute_result"
    }
   ],
   "source": [
    "# Checking the percentage of missing values in each column.\n",
    "\n",
    "round(100*(leads_data.isnull().sum()/len(leads_data.index)), 2)"
   ]
  },
  {
   "cell_type": "code",
   "execution_count": 12,
   "id": "1934c71a",
   "metadata": {},
   "outputs": [],
   "source": [
    "# Dropping \"Country\" and \"City\" columnns as it has more % of missing values\n",
    "leads_data.drop([\"Country\", \"City\"], axis = 1, inplace = True)"
   ]
  },
  {
   "cell_type": "markdown",
   "id": "d488e501",
   "metadata": {},
   "source": [
    "### Imputing Specialization column"
   ]
  },
  {
   "cell_type": "code",
   "execution_count": 13,
   "id": "ee11a8f2",
   "metadata": {},
   "outputs": [
    {
     "data": {
      "text/plain": [
       "NaN                                  3380\n",
       "Finance Management                    976\n",
       "Human Resource Management             848\n",
       "Marketing Management                  838\n",
       "Operations Management                 503\n",
       "Business Administration               403\n",
       "IT Projects Management                366\n",
       "Supply Chain Management               349\n",
       "Banking, Investment And Insurance     338\n",
       "Travel and Tourism                    203\n",
       "Media and Advertising                 203\n",
       "International Business                178\n",
       "Healthcare Management                 159\n",
       "Hospitality Management                114\n",
       "E-COMMERCE                            112\n",
       "Retail Management                     100\n",
       "Rural and Agribusiness                 73\n",
       "E-Business                             57\n",
       "Services Excellence                    40\n",
       "Name: Specialization, dtype: int64"
      ]
     },
     "execution_count": 13,
     "metadata": {},
     "output_type": "execute_result"
    }
   ],
   "source": [
    "leads_data[\"Specialization\"].value_counts(dropna=False)"
   ]
  },
  {
   "cell_type": "code",
   "execution_count": 14,
   "id": "e42084e4",
   "metadata": {},
   "outputs": [],
   "source": [
    "leads_data[\"Specialization\"] = leads_data[\"Specialization\"].replace(np.nan, \"Not Given\")"
   ]
  },
  {
   "cell_type": "markdown",
   "id": "e786f413",
   "metadata": {},
   "source": [
    "### Imputing \"What is your current occupation\" column"
   ]
  },
  {
   "cell_type": "code",
   "execution_count": 15,
   "id": "af379540",
   "metadata": {},
   "outputs": [
    {
     "data": {
      "text/plain": [
       "Unemployed              5600\n",
       "NaN                     2690\n",
       "Working Professional     706\n",
       "Student                  210\n",
       "Other                     16\n",
       "Housewife                 10\n",
       "Businessman                8\n",
       "Name: What is your current occupation, dtype: int64"
      ]
     },
     "execution_count": 15,
     "metadata": {},
     "output_type": "execute_result"
    }
   ],
   "source": [
    "leads_data[\"What is your current occupation\"].value_counts(dropna=False)"
   ]
  },
  {
   "cell_type": "code",
   "execution_count": 16,
   "id": "e69cd74c",
   "metadata": {},
   "outputs": [],
   "source": [
    "# Replacing NaN values in \"What is your current occupation\" column with the Mode value in the column.\n",
    "\n",
    "leads_data[\"What is your current occupation\"] = leads_data[\"What is your current occupation\"].replace(np.nan, \"Unemployed\")"
   ]
  },
  {
   "cell_type": "markdown",
   "id": "ccfdf37f",
   "metadata": {},
   "source": [
    "### Imputing \"What matters most to you in choosing a course\" column"
   ]
  },
  {
   "cell_type": "code",
   "execution_count": 17,
   "id": "6445ff2f",
   "metadata": {},
   "outputs": [
    {
     "data": {
      "text/plain": [
       "Better Career Prospects      6528\n",
       "NaN                          2709\n",
       "Flexibility & Convenience       2\n",
       "Other                           1\n",
       "Name: What matters most to you in choosing a course, dtype: int64"
      ]
     },
     "execution_count": 17,
     "metadata": {},
     "output_type": "execute_result"
    }
   ],
   "source": [
    "leads_data[\"What matters most to you in choosing a course\"].value_counts(dropna=False)"
   ]
  },
  {
   "cell_type": "code",
   "execution_count": 18,
   "id": "f419bdf0",
   "metadata": {},
   "outputs": [],
   "source": [
    "# Replacing NaN values in \"What matters most to you in choosing a course\" column with the new category \"not given\" in the column.\n",
    "\n",
    "leads_data[\"What matters most to you in choosing a course\"] = leads_data[\"What matters most to you in choosing a course\"].replace(np.nan, \"Not Given\")"
   ]
  },
  {
   "cell_type": "markdown",
   "id": "2ec4a6e7",
   "metadata": {},
   "source": [
    "### Imputing \"Tags\" column"
   ]
  },
  {
   "cell_type": "code",
   "execution_count": 19,
   "id": "1b843ed9",
   "metadata": {},
   "outputs": [
    {
     "data": {
      "text/plain": [
       "NaN                                                  3353\n",
       "Will revert after reading the email                  2072\n",
       "Ringing                                              1203\n",
       "Interested in other courses                           513\n",
       "Already a student                                     465\n",
       "Closed by Horizzon                                    358\n",
       "switched off                                          240\n",
       "Busy                                                  186\n",
       "Lost to EINS                                          175\n",
       "Not doing further education                           145\n",
       "Interested  in full time MBA                          117\n",
       "Graduation in progress                                111\n",
       "invalid number                                         83\n",
       "Diploma holder (Not Eligible)                          63\n",
       "wrong number given                                     47\n",
       "opp hangup                                             33\n",
       "number not provided                                    27\n",
       "in touch with EINS                                     12\n",
       "Lost to Others                                          7\n",
       "Still Thinking                                          6\n",
       "Want to take admission but has financial problems       6\n",
       "In confusion whether part time or DLP                   5\n",
       "Interested in Next batch                                5\n",
       "Lateral student                                         3\n",
       "Shall take in the next coming month                     2\n",
       "University not recognized                               2\n",
       "Recognition issue (DEC approval)                        1\n",
       "Name: Tags, dtype: int64"
      ]
     },
     "execution_count": 19,
     "metadata": {},
     "output_type": "execute_result"
    }
   ],
   "source": [
    "# Let's see the value counts of \"Tags\" column.\n",
    "\n",
    "leads_data[\"Tags\"].value_counts(dropna=False)"
   ]
  },
  {
   "cell_type": "code",
   "execution_count": 20,
   "id": "bdfeea81",
   "metadata": {},
   "outputs": [],
   "source": [
    "# Replacing NaN values in \"Tags\" column with a new category \"Not given\".\n",
    "\n",
    "leads_data[\"Tags\"] = leads_data[\"Tags\"].replace(np.nan, \"Not Given\")"
   ]
  },
  {
   "cell_type": "code",
   "execution_count": 21,
   "id": "e0c6b161",
   "metadata": {},
   "outputs": [],
   "source": [
    "# Dropping Rows having NaN values.\n",
    "\n",
    "leads_data = leads_data[~pd.isnull(leads_data[\"Lead Source\"])]\n",
    "leads_data = leads_data[~pd.isnull(leads_data[\"TotalVisits\"])]\n",
    "leads_data = leads_data[~pd.isnull(leads_data[\"Page Views Per Visit\"])]\n",
    "leads_data = leads_data[~pd.isnull(leads_data[\"Last Activity\"])]"
   ]
  },
  {
   "cell_type": "code",
   "execution_count": 22,
   "id": "ba05fff6",
   "metadata": {},
   "outputs": [
    {
     "data": {
      "text/plain": [
       "Lead Origin                                      0.0\n",
       "Lead Source                                      0.0\n",
       "Do Not Email                                     0.0\n",
       "Do Not Call                                      0.0\n",
       "Converted                                        0.0\n",
       "TotalVisits                                      0.0\n",
       "Total Time Spent on Website                      0.0\n",
       "Page Views Per Visit                             0.0\n",
       "Last Activity                                    0.0\n",
       "Specialization                                   0.0\n",
       "What is your current occupation                  0.0\n",
       "What matters most to you in choosing a course    0.0\n",
       "Search                                           0.0\n",
       "Magazine                                         0.0\n",
       "Newspaper Article                                0.0\n",
       "X Education Forums                               0.0\n",
       "Newspaper                                        0.0\n",
       "Digital Advertisement                            0.0\n",
       "Through Recommendations                          0.0\n",
       "Receive More Updates About Our Courses           0.0\n",
       "Tags                                             0.0\n",
       "Update me on Supply Chain Content                0.0\n",
       "Get updates on DM Content                        0.0\n",
       "I agree to pay the amount through cheque         0.0\n",
       "A free copy of Mastering The Interview           0.0\n",
       "Last Notable Activity                            0.0\n",
       "dtype: float64"
      ]
     },
     "execution_count": 22,
     "metadata": {},
     "output_type": "execute_result"
    }
   ],
   "source": [
    "# Checking the percentage of missing values in each column.\n",
    "\n",
    "round(100*(leads_data.isnull().sum()/len(leads_data.index)), 2)"
   ]
  },
  {
   "cell_type": "code",
   "execution_count": 23,
   "id": "586112bb",
   "metadata": {},
   "outputs": [
    {
     "name": "stdout",
     "output_type": "stream",
     "text": [
      "Column  Lead Origin\n",
      "Landing Page Submission    4885\n",
      "API                        3578\n",
      "Lead Add Form               581\n",
      "Lead Import                  30\n",
      "Name: Lead Origin, dtype: int64\n",
      "******************************\n",
      "Column  Lead Source\n",
      "Google               2868\n",
      "Direct Traffic       2543\n",
      "Olark Chat           1753\n",
      "Organic Search       1154\n",
      "Reference             443\n",
      "Welingak Website      129\n",
      "Referral Sites        125\n",
      "Facebook               31\n",
      "bing                    6\n",
      "google                  5\n",
      "Click2call              4\n",
      "Press_Release           2\n",
      "Social Media            2\n",
      "Live Chat               2\n",
      "youtubechannel          1\n",
      "testone                 1\n",
      "Pay per Click Ads       1\n",
      "welearnblog_Home        1\n",
      "WeLearn                 1\n",
      "blog                    1\n",
      "NC_EDM                  1\n",
      "Name: Lead Source, dtype: int64\n",
      "******************************\n",
      "Column  Do Not Email\n",
      "No     8358\n",
      "Yes     716\n",
      "Name: Do Not Email, dtype: int64\n",
      "******************************\n",
      "Column  Do Not Call\n",
      "No     9072\n",
      "Yes       2\n",
      "Name: Do Not Call, dtype: int64\n",
      "******************************\n",
      "Column  Converted\n",
      "0    5639\n",
      "1    3435\n",
      "Name: Converted, dtype: int64\n",
      "******************************\n",
      "Column  TotalVisits\n",
      "0.0      2161\n",
      "2.0      1679\n",
      "3.0      1306\n",
      "4.0      1120\n",
      "5.0       783\n",
      "6.0       466\n",
      "1.0       395\n",
      "7.0       309\n",
      "8.0       224\n",
      "9.0       164\n",
      "10.0      114\n",
      "11.0       86\n",
      "13.0       48\n",
      "12.0       45\n",
      "14.0       36\n",
      "16.0       21\n",
      "15.0       18\n",
      "17.0       16\n",
      "18.0       15\n",
      "20.0       12\n",
      "19.0        9\n",
      "21.0        6\n",
      "23.0        6\n",
      "24.0        5\n",
      "25.0        5\n",
      "27.0        5\n",
      "22.0        3\n",
      "29.0        2\n",
      "28.0        2\n",
      "26.0        2\n",
      "141.0       1\n",
      "55.0        1\n",
      "30.0        1\n",
      "43.0        1\n",
      "74.0        1\n",
      "41.0        1\n",
      "54.0        1\n",
      "115.0       1\n",
      "251.0       1\n",
      "32.0        1\n",
      "42.0        1\n",
      "Name: TotalVisits, dtype: int64\n",
      "******************************\n",
      "Column  Total Time Spent on Website\n",
      "0       2165\n",
      "60        19\n",
      "127       18\n",
      "75        18\n",
      "74        17\n",
      "        ... \n",
      "609        1\n",
      "1035       1\n",
      "802        1\n",
      "840        1\n",
      "927        1\n",
      "Name: Total Time Spent on Website, Length: 1717, dtype: int64\n",
      "******************************\n",
      "Column  Page Views Per Visit\n",
      "0.00    2161\n",
      "2.00    1794\n",
      "3.00    1196\n",
      "4.00     896\n",
      "1.00     651\n",
      "        ... \n",
      "3.43       1\n",
      "2.56       1\n",
      "6.33       1\n",
      "1.64       1\n",
      "2.08       1\n",
      "Name: Page Views Per Visit, Length: 114, dtype: int64\n",
      "******************************\n",
      "Column  Last Activity\n",
      "Email Opened                    3432\n",
      "SMS Sent                        2716\n",
      "Olark Chat Conversation          972\n",
      "Page Visited on Website          640\n",
      "Converted to Lead                428\n",
      "Email Bounced                    312\n",
      "Email Link Clicked               267\n",
      "Form Submitted on Website        116\n",
      "Unreachable                       90\n",
      "Unsubscribed                      59\n",
      "Had a Phone Conversation          25\n",
      "View in browser link Clicked       6\n",
      "Approached upfront                 5\n",
      "Email Received                     2\n",
      "Email Marked Spam                  2\n",
      "Visited Booth in Tradeshow         1\n",
      "Resubscribed to emails             1\n",
      "Name: Last Activity, dtype: int64\n",
      "******************************\n",
      "Column  Specialization\n",
      "Not Given                            3282\n",
      "Finance Management                    959\n",
      "Human Resource Management             837\n",
      "Marketing Management                  823\n",
      "Operations Management                 499\n",
      "Business Administration               399\n",
      "IT Projects Management                366\n",
      "Supply Chain Management               346\n",
      "Banking, Investment And Insurance     335\n",
      "Travel and Tourism                    202\n",
      "Media and Advertising                 202\n",
      "International Business                176\n",
      "Healthcare Management                 156\n",
      "E-COMMERCE                            111\n",
      "Hospitality Management                111\n",
      "Retail Management                     100\n",
      "Rural and Agribusiness                 73\n",
      "E-Business                             57\n",
      "Services Excellence                    40\n",
      "Name: Specialization, dtype: int64\n",
      "******************************\n",
      "Column  What is your current occupation\n",
      "Unemployed              8159\n",
      "Working Professional     677\n",
      "Student                  206\n",
      "Other                     15\n",
      "Housewife                  9\n",
      "Businessman                8\n",
      "Name: What is your current occupation, dtype: int64\n",
      "******************************\n",
      "Column  What matters most to you in choosing a course\n",
      "Better Career Prospects      6370\n",
      "Not Given                    2702\n",
      "Flexibility & Convenience       1\n",
      "Other                           1\n",
      "Name: What matters most to you in choosing a course, dtype: int64\n",
      "******************************\n",
      "Column  Search\n",
      "No     9060\n",
      "Yes      14\n",
      "Name: Search, dtype: int64\n",
      "******************************\n",
      "Column  Magazine\n",
      "No    9074\n",
      "Name: Magazine, dtype: int64\n",
      "******************************\n",
      "Column  Newspaper Article\n",
      "No     9072\n",
      "Yes       2\n",
      "Name: Newspaper Article, dtype: int64\n",
      "******************************\n",
      "Column  X Education Forums\n",
      "No     9073\n",
      "Yes       1\n",
      "Name: X Education Forums, dtype: int64\n",
      "******************************\n",
      "Column  Newspaper\n",
      "No     9073\n",
      "Yes       1\n",
      "Name: Newspaper, dtype: int64\n",
      "******************************\n",
      "Column  Digital Advertisement\n",
      "No     9070\n",
      "Yes       4\n",
      "Name: Digital Advertisement, dtype: int64\n",
      "******************************\n",
      "Column  Through Recommendations\n",
      "No     9067\n",
      "Yes       7\n",
      "Name: Through Recommendations, dtype: int64\n",
      "******************************\n",
      "Column  Receive More Updates About Our Courses\n",
      "No    9074\n",
      "Name: Receive More Updates About Our Courses, dtype: int64\n",
      "******************************\n",
      "Column  Tags\n",
      "Not Given                                            3327\n",
      "Will revert after reading the email                  2016\n",
      "Ringing                                              1187\n",
      "Interested in other courses                           509\n",
      "Already a student                                     465\n",
      "Closed by Horizzon                                    301\n",
      "switched off                                          240\n",
      "Busy                                                  185\n",
      "Lost to EINS                                          172\n",
      "Not doing further education                           145\n",
      "Interested  in full time MBA                          116\n",
      "Graduation in progress                                111\n",
      "invalid number                                         83\n",
      "Diploma holder (Not Eligible)                          63\n",
      "wrong number given                                     47\n",
      "opp hangup                                             33\n",
      "number not provided                                    25\n",
      "in touch with EINS                                     12\n",
      "Lost to Others                                          7\n",
      "Still Thinking                                          6\n",
      "Want to take admission but has financial problems       6\n",
      "In confusion whether part time or DLP                   5\n",
      "Interested in Next batch                                5\n",
      "Lateral student                                         3\n",
      "Shall take in the next coming month                     2\n",
      "University not recognized                               2\n",
      "Recognition issue (DEC approval)                        1\n",
      "Name: Tags, dtype: int64\n",
      "******************************\n",
      "Column  Update me on Supply Chain Content\n",
      "No    9074\n",
      "Name: Update me on Supply Chain Content, dtype: int64\n",
      "******************************\n",
      "Column  Get updates on DM Content\n",
      "No    9074\n",
      "Name: Get updates on DM Content, dtype: int64\n",
      "******************************\n",
      "Column  I agree to pay the amount through cheque\n",
      "No    9074\n",
      "Name: I agree to pay the amount through cheque, dtype: int64\n",
      "******************************\n",
      "Column  A free copy of Mastering The Interview\n",
      "No     6186\n",
      "Yes    2888\n",
      "Name: A free copy of Mastering The Interview, dtype: int64\n",
      "******************************\n",
      "Column  Last Notable Activity\n",
      "Modified                        3267\n",
      "Email Opened                    2823\n",
      "SMS Sent                        2152\n",
      "Page Visited on Website          318\n",
      "Olark Chat Conversation          183\n",
      "Email Link Clicked               173\n",
      "Email Bounced                     60\n",
      "Unsubscribed                      45\n",
      "Unreachable                       32\n",
      "Had a Phone Conversation          14\n",
      "Email Marked Spam                  2\n",
      "Approached upfront                 1\n",
      "Resubscribed to emails             1\n",
      "View in browser link Clicked       1\n",
      "Form Submitted on Website          1\n",
      "Email Received                     1\n",
      "Name: Last Notable Activity, dtype: int64\n",
      "******************************\n"
     ]
    }
   ],
   "source": [
    "for col in leads_data.columns:\n",
    "    print(\"Column \",col)\n",
    "    print(leads_data[col].value_counts(dropna=False))\n",
    "    print(\"******************************\")"
   ]
  },
  {
   "cell_type": "code",
   "execution_count": 24,
   "id": "3f2afad9",
   "metadata": {},
   "outputs": [],
   "source": [
    "# Dropping columns as these categorical columns marks majority for particular category\n",
    "\n",
    "cols = [\"Do Not Call\", \"What matters most to you in choosing a course\", \"Search\", \"Magazine\", \"Newspaper Article\", \"X Education Forums\", \"Newspaper\", \"Digital Advertisement\", \"Through Recommendations\", \"Receive More Updates About Our Courses\", \"Update me on Supply Chain Content\", \"Get updates on DM Content\", \"I agree to pay the amount through cheque\"]\n",
    "\n",
    "leads_data.drop(cols, axis = 1, inplace = True)"
   ]
  },
  {
   "cell_type": "code",
   "execution_count": 25,
   "id": "ed68a8d2",
   "metadata": {},
   "outputs": [
    {
     "data": {
      "text/plain": [
       "Index(['Lead Origin', 'Lead Source', 'Do Not Email', 'Converted',\n",
       "       'TotalVisits', 'Total Time Spent on Website', 'Page Views Per Visit',\n",
       "       'Last Activity', 'Specialization', 'What is your current occupation',\n",
       "       'Tags', 'A free copy of Mastering The Interview',\n",
       "       'Last Notable Activity'],\n",
       "      dtype='object')"
      ]
     },
     "execution_count": 25,
     "metadata": {},
     "output_type": "execute_result"
    }
   ],
   "source": [
    "leads_data.columns"
   ]
  },
  {
   "cell_type": "code",
   "execution_count": 26,
   "id": "27f13962",
   "metadata": {},
   "outputs": [
    {
     "data": {
      "text/html": [
       "<div>\n",
       "<style scoped>\n",
       "    .dataframe tbody tr th:only-of-type {\n",
       "        vertical-align: middle;\n",
       "    }\n",
       "\n",
       "    .dataframe tbody tr th {\n",
       "        vertical-align: top;\n",
       "    }\n",
       "\n",
       "    .dataframe thead th {\n",
       "        text-align: right;\n",
       "    }\n",
       "</style>\n",
       "<table border=\"1\" class=\"dataframe\">\n",
       "  <thead>\n",
       "    <tr style=\"text-align: right;\">\n",
       "      <th></th>\n",
       "      <th>Converted</th>\n",
       "      <th>TotalVisits</th>\n",
       "      <th>Total Time Spent on Website</th>\n",
       "      <th>Page Views Per Visit</th>\n",
       "    </tr>\n",
       "  </thead>\n",
       "  <tbody>\n",
       "    <tr>\n",
       "      <th>count</th>\n",
       "      <td>9074.000000</td>\n",
       "      <td>9074.000000</td>\n",
       "      <td>9074.000000</td>\n",
       "      <td>9074.000000</td>\n",
       "    </tr>\n",
       "    <tr>\n",
       "      <th>mean</th>\n",
       "      <td>0.378554</td>\n",
       "      <td>3.456028</td>\n",
       "      <td>482.887481</td>\n",
       "      <td>2.370151</td>\n",
       "    </tr>\n",
       "    <tr>\n",
       "      <th>std</th>\n",
       "      <td>0.485053</td>\n",
       "      <td>4.858802</td>\n",
       "      <td>545.256560</td>\n",
       "      <td>2.160871</td>\n",
       "    </tr>\n",
       "    <tr>\n",
       "      <th>min</th>\n",
       "      <td>0.000000</td>\n",
       "      <td>0.000000</td>\n",
       "      <td>0.000000</td>\n",
       "      <td>0.000000</td>\n",
       "    </tr>\n",
       "    <tr>\n",
       "      <th>25%</th>\n",
       "      <td>0.000000</td>\n",
       "      <td>1.000000</td>\n",
       "      <td>11.000000</td>\n",
       "      <td>1.000000</td>\n",
       "    </tr>\n",
       "    <tr>\n",
       "      <th>50%</th>\n",
       "      <td>0.000000</td>\n",
       "      <td>3.000000</td>\n",
       "      <td>246.000000</td>\n",
       "      <td>2.000000</td>\n",
       "    </tr>\n",
       "    <tr>\n",
       "      <th>75%</th>\n",
       "      <td>1.000000</td>\n",
       "      <td>5.000000</td>\n",
       "      <td>922.750000</td>\n",
       "      <td>3.200000</td>\n",
       "    </tr>\n",
       "    <tr>\n",
       "      <th>max</th>\n",
       "      <td>1.000000</td>\n",
       "      <td>251.000000</td>\n",
       "      <td>2272.000000</td>\n",
       "      <td>55.000000</td>\n",
       "    </tr>\n",
       "  </tbody>\n",
       "</table>\n",
       "</div>"
      ],
      "text/plain": [
       "         Converted  TotalVisits  Total Time Spent on Website  \\\n",
       "count  9074.000000  9074.000000                  9074.000000   \n",
       "mean      0.378554     3.456028                   482.887481   \n",
       "std       0.485053     4.858802                   545.256560   \n",
       "min       0.000000     0.000000                     0.000000   \n",
       "25%       0.000000     1.000000                    11.000000   \n",
       "50%       0.000000     3.000000                   246.000000   \n",
       "75%       1.000000     5.000000                   922.750000   \n",
       "max       1.000000   251.000000                  2272.000000   \n",
       "\n",
       "       Page Views Per Visit  \n",
       "count           9074.000000  \n",
       "mean               2.370151  \n",
       "std                2.160871  \n",
       "min                0.000000  \n",
       "25%                1.000000  \n",
       "50%                2.000000  \n",
       "75%                3.200000  \n",
       "max               55.000000  "
      ]
     },
     "execution_count": 26,
     "metadata": {},
     "output_type": "execute_result"
    }
   ],
   "source": [
    "# numerical_columns = leads_data.describe().columns\n",
    "leads_data.describe()"
   ]
  },
  {
   "cell_type": "markdown",
   "id": "80db5224",
   "metadata": {},
   "source": [
    "### Outliers Treatment"
   ]
  },
  {
   "cell_type": "code",
   "execution_count": 27,
   "id": "bbbece48",
   "metadata": {},
   "outputs": [],
   "source": [
    "def outliers_removal(column):\n",
    "    Q1 = leads_data[column].describe().loc['25%']\n",
    "    Q3 = leads_data[column].describe().loc['75%']\n",
    "    IQR=Q3-Q1\n",
    "    upper_bound = Q3+1.5*IQR\n",
    "    lower_bound = Q1+1.5*IQR\n",
    "    leads_data[column]=np.where(leads_data[column]>upper_bound,upper_bound,leads_data[column])\n",
    "    leads_data[column]=np.where(leads_data[column]<lower_bound,lower_bound,leads_data[column])\n",
    "    return"
   ]
  },
  {
   "cell_type": "code",
   "execution_count": 28,
   "id": "9789d3d7",
   "metadata": {},
   "outputs": [],
   "source": [
    "# Capping and Flooring the outliers.\n",
    "\n",
    "for col in [\"TotalVisits\", \"Page Views Per Visit\"]:\n",
    "    outliers_removal(col)"
   ]
  },
  {
   "cell_type": "markdown",
   "id": "06a61a09",
   "metadata": {},
   "source": [
    "## EDA"
   ]
  },
  {
   "cell_type": "markdown",
   "id": "4442b41e",
   "metadata": {},
   "source": [
    "### Univariate Analysis"
   ]
  },
  {
   "cell_type": "code",
   "execution_count": 29,
   "id": "c2586470",
   "metadata": {},
   "outputs": [
    {
     "data": {
      "image/png": "[encoded data removed]",
      "text/plain": [
       "<Figure size 432x288 with 1 Axes>"
      ]
     },
     "metadata": {
      "needs_background": "light"
     },
     "output_type": "display_data"
    }
   ],
   "source": [
    "# CountPlot for \"Lead Origin\".\n",
    "\n",
    "sns.countplot(leads_data[\"Lead Origin\"])\n",
    "plt.xticks(rotation=90)\n",
    "plt.title(\"Lead Origin\")\n",
    "plt.show()"
   ]
  },
  {
   "cell_type": "code",
   "execution_count": 30,
   "id": "cbe9ec5e",
   "metadata": {},
   "outputs": [
    {
     "data": {
      "image/png": "[encoded data removed]",
      "text/plain": [
       "<Figure size 576x360 with 1 Axes>"
      ]
     },
     "metadata": {
      "needs_background": "light"
     },
     "output_type": "display_data"
    }
   ],
   "source": [
    "# CountPlot for \"Lead Source\".\n",
    "\n",
    "plt.figure(figsize = (8,5))\n",
    "sns.countplot(leads_data[\"Lead Source\"])\n",
    "plt.xticks(rotation=90)\n",
    "plt.title(\"Lead Source\")\n",
    "plt.show()"
   ]
  },
  {
   "cell_type": "code",
   "execution_count": 31,
   "id": "40b86b27",
   "metadata": {},
   "outputs": [
    {
     "data": {
      "image/png": "[encoded data removed]",
      "text/plain": [
       "<Figure size 576x360 with 1 Axes>"
      ]
     },
     "metadata": {
      "needs_background": "light"
     },
     "output_type": "display_data"
    }
   ],
   "source": [
    "# CountPlot for \"Do Not Email\".\n",
    "\n",
    "plt.figure(figsize = (8,5))\n",
    "sns.countplot(leads_data[\"Do Not Email\"])\n",
    "plt.title(\"Do Not Email\")\n",
    "plt.show()"
   ]
  },
  {
   "cell_type": "code",
   "execution_count": 32,
   "id": "3be20dc0",
   "metadata": {},
   "outputs": [
    {
     "data": {
      "image/png": "[encoded data removed]",
      "text/plain": [
       "<Figure size 576x360 with 1 Axes>"
      ]
     },
     "metadata": {
      "needs_background": "light"
     },
     "output_type": "display_data"
    }
   ],
   "source": [
    "# CountPlot for \"Last Activity\".\n",
    "\n",
    "plt.figure(figsize = (8,5))\n",
    "sns.countplot(leads_data[\"Last Activity\"])\n",
    "plt.xticks(rotation=90)\n",
    "plt.title(\"Last Activity\")\n",
    "plt.show()"
   ]
  },
  {
   "cell_type": "code",
   "execution_count": 33,
   "id": "18737356",
   "metadata": {},
   "outputs": [
    {
     "data": {
      "image/png": "[encoded data removed]",
      "text/plain": [
       "<Figure size 576x360 with 1 Axes>"
      ]
     },
     "metadata": {
      "needs_background": "light"
     },
     "output_type": "display_data"
    }
   ],
   "source": [
    "# CountPlot for \"Specialization\".\n",
    "\n",
    "plt.figure(figsize = (8,5))\n",
    "sns.countplot(leads_data[\"Specialization\"])\n",
    "plt.xticks(rotation=90)\n",
    "plt.title(\"Specialization\")\n",
    "plt.show()"
   ]
  },
  {
   "cell_type": "code",
   "execution_count": 34,
   "id": "08e32f6d",
   "metadata": {},
   "outputs": [
    {
     "data": {
      "image/png": "[encoded data removed]",
      "text/plain": [
       "<Figure size 576x360 with 1 Axes>"
      ]
     },
     "metadata": {
      "needs_background": "light"
     },
     "output_type": "display_data"
    }
   ],
   "source": [
    "# CountPlot for \"What is your current occupation\".\n",
    "\n",
    "plt.figure(figsize = (8,5))\n",
    "sns.countplot(leads_data[\"What is your current occupation\"])\n",
    "plt.xticks(rotation=90)\n",
    "plt.title(\"What is your current occupation\")\n",
    "plt.show()"
   ]
  },
  {
   "cell_type": "code",
   "execution_count": 35,
   "id": "cceca2c5",
   "metadata": {},
   "outputs": [
    {
     "data": {
      "image/png": "[encoded data removed]",
      "text/plain": [
       "<Figure size 576x360 with 1 Axes>"
      ]
     },
     "metadata": {
      "needs_background": "light"
     },
     "output_type": "display_data"
    }
   ],
   "source": [
    "# CountPlot for \"Tags\".\n",
    "\n",
    "plt.figure(figsize = (8,5))\n",
    "sns.countplot(leads_data[\"Tags\"])\n",
    "plt.xticks(rotation=90)\n",
    "plt.title(\"Tags\")\n",
    "plt.show()"
   ]
  },
  {
   "cell_type": "code",
   "execution_count": 36,
   "id": "34270a83",
   "metadata": {},
   "outputs": [
    {
     "data": {
      "image/png": "[encoded data removed]",
      "text/plain": [
       "<Figure size 576x360 with 1 Axes>"
      ]
     },
     "metadata": {
      "needs_background": "light"
     },
     "output_type": "display_data"
    }
   ],
   "source": [
    "# CountPlot for \"A free copy of Mastering The Interview\".\n",
    "\n",
    "plt.figure(figsize = (8,5))\n",
    "sns.countplot(leads_data[\"A free copy of Mastering The Interview\"])\n",
    "plt.title(\"A free copy of Mastering The Interview\")\n",
    "plt.show()"
   ]
  },
  {
   "cell_type": "code",
   "execution_count": 37,
   "id": "b344d7da",
   "metadata": {},
   "outputs": [
    {
     "data": {
      "image/png": "[encoded data removed]",
      "text/plain": [
       "<Figure size 576x360 with 1 Axes>"
      ]
     },
     "metadata": {
      "needs_background": "light"
     },
     "output_type": "display_data"
    }
   ],
   "source": [
    "# CountPlot for \"Last Notable Activity\".\n",
    "\n",
    "plt.figure(figsize = (8,5))\n",
    "sns.countplot(leads_data[\"Last Notable Activity\"])\n",
    "plt.xticks(rotation=90)\n",
    "plt.title(\"Last Notable Activity\")\n",
    "plt.show()"
   ]
  },
  {
   "cell_type": "markdown",
   "id": "028e7209",
   "metadata": {},
   "source": [
    "### Multivariate Analysis"
   ]
  },
  {
   "cell_type": "code",
   "execution_count": 38,
   "id": "50933fc5",
   "metadata": {},
   "outputs": [
    {
     "data": {
      "image/png": "[encoded data removed]",
      "text/plain": [
       "<Figure size 432x288 with 1 Axes>"
      ]
     },
     "metadata": {
      "needs_background": "light"
     },
     "output_type": "display_data"
    }
   ],
   "source": [
    "# Countplot for \"Lead Origin\" with Hue = \"Coverted\".\n",
    "\n",
    "sns.countplot(data = leads_data, x = \"Lead Origin\", hue = \"Converted\")\n",
    "plt.xticks(rotation = 90)\n",
    "plt.title(\"Lead Origin\")\n",
    "plt.show()"
   ]
  },
  {
   "cell_type": "code",
   "execution_count": 39,
   "id": "79d1c8f8",
   "metadata": {},
   "outputs": [
    {
     "data": {
      "image/png": "[encoded data removed]",
      "text/plain": [
       "<Figure size 576x360 with 1 Axes>"
      ]
     },
     "metadata": {
      "needs_background": "light"
     },
     "output_type": "display_data"
    }
   ],
   "source": [
    "plt.figure(figsize = (8,5))\n",
    "sns.countplot(data = leads_data, x = \"Lead Source\", hue = \"Converted\")\n",
    "plt.xticks(rotation = 90)\n",
    "plt.title(\"Lead Source\")\n",
    "plt.legend(title = \"Converted\", loc = \"upper right\")\n",
    "plt.show()"
   ]
  },
  {
   "cell_type": "code",
   "execution_count": 40,
   "id": "7479d263",
   "metadata": {},
   "outputs": [
    {
     "data": {
      "image/png": "[encoded data removed]",
      "text/plain": [
       "<Figure size 576x360 with 1 Axes>"
      ]
     },
     "metadata": {
      "needs_background": "light"
     },
     "output_type": "display_data"
    }
   ],
   "source": [
    "plt.figure(figsize = (8,5))\n",
    "sns.countplot(data = leads_data, x = \"Last Notable Activity\", hue = \"Converted\")\n",
    "plt.xticks(rotation = 90)\n",
    "plt.title(\"Last Notable Activity\")\n",
    "plt.show()"
   ]
  },
  {
   "cell_type": "markdown",
   "id": "4e9b86ca",
   "metadata": {},
   "source": [
    "- Total number of leads generated by Direct Traffic and Google are the highest. They also have the highest converted leads.\n",
    "\n",
    "- Leads through Reference are low in number, but they have a higher conversion rate.\n",
    "\n",
    "- Numbers of leads from Olark Chat and Organic Search are high, but their conversion rates are low.\n",
    "- Customers whose Last Notable Activity was either Email Opened or SMS Sent are having high number of leads. They also have higher converted leads."
   ]
  },
  {
   "cell_type": "code",
   "execution_count": 41,
   "id": "b8a7e596",
   "metadata": {},
   "outputs": [
    {
     "data": {
      "image/png": "[encoded data removed]",
      "text/plain": [
       "<Figure size 576x360 with 2 Axes>"
      ]
     },
     "metadata": {
      "needs_background": "light"
     },
     "output_type": "display_data"
    }
   ],
   "source": [
    "# Correlation HeatMap for numerical variables.\n",
    "\n",
    "plt.figure(figsize = (8,5))\n",
    "sns.heatmap(leads_data.corr(), annot=True)\n",
    "plt.show()"
   ]
  },
  {
   "cell_type": "code",
   "execution_count": 42,
   "id": "70b09298",
   "metadata": {},
   "outputs": [],
   "source": [
    "# List of variables to map.\n",
    "\n",
    "variablelist =  [\"A free copy of Mastering The Interview\", \"Do Not Email\"]\n",
    "\n",
    "# Defining the map function\n",
    "def binary_map(x):\n",
    "    return x.map({'Yes': 1, \"No\": 0})\n",
    "\n",
    "# Applying the function to the housing list\n",
    "leads_data[variablelist] = leads_data[variablelist].apply(binary_map)"
   ]
  },
  {
   "cell_type": "code",
   "execution_count": 43,
   "id": "67d4fc4a",
   "metadata": {},
   "outputs": [],
   "source": [
    "dummy1 = pd.get_dummies(leads_data[[\"Lead Origin\",\"What is your current occupation\"]], drop_first=True)\n",
    "\n",
    "# Adding Dummies to the main Dataframe.\n",
    "leads_data = pd.concat([leads_data,dummy1], axis = 1)"
   ]
  },
  {
   "cell_type": "code",
   "execution_count": 44,
   "id": "dcdcd852",
   "metadata": {},
   "outputs": [],
   "source": [
    "dummy2 = pd.get_dummies(leads_data[[\"Specialization\",\"Lead Source\",\"Last Activity\",\"Last Notable Activity\",\"Tags\"]], drop_first=True)"
   ]
  },
  {
   "cell_type": "code",
   "execution_count": 45,
   "id": "783a5e97",
   "metadata": {},
   "outputs": [],
   "source": [
    "leads_data = pd.concat([leads_data,dummy2], axis = 1)"
   ]
  },
  {
   "cell_type": "code",
   "execution_count": 46,
   "id": "22f78b8d",
   "metadata": {},
   "outputs": [],
   "source": [
    "cols_drop = [\"Lead Origin\", \"Lead Source\", \"Last Activity\", \"Specialization\", \"What is your current occupation\", \"Tags\", \"Last Notable Activity\"]\n",
    "leads_data.drop(cols_drop, axis = 1, inplace = True)"
   ]
  },
  {
   "cell_type": "markdown",
   "id": "7b62389f",
   "metadata": {},
   "source": [
    "### Train-Test Split"
   ]
  },
  {
   "cell_type": "code",
   "execution_count": 47,
   "id": "4d322c24",
   "metadata": {},
   "outputs": [],
   "source": [
    "# Importing necessary libraries.\n",
    "\n",
    "from sklearn.model_selection import train_test_split\n"
   ]
  },
  {
   "cell_type": "code",
   "execution_count": 48,
   "id": "116a3d20",
   "metadata": {},
   "outputs": [
    {
     "data": {
      "text/plain": [
       "0    0\n",
       "1    0\n",
       "2    1\n",
       "3    0\n",
       "4    1\n",
       "Name: Converted, dtype: int64"
      ]
     },
     "execution_count": 48,
     "metadata": {},
     "output_type": "execute_result"
    }
   ],
   "source": [
    "# Putting feature variables to X.\n",
    "\n",
    "y = leads_data.pop(\"Converted\")\n",
    "y.head()"
   ]
  },
  {
   "cell_type": "code",
   "execution_count": 49,
   "id": "dcbc748d",
   "metadata": {},
   "outputs": [],
   "source": [
    "X = leads_data"
   ]
  },
  {
   "cell_type": "code",
   "execution_count": 50,
   "id": "779d3a72",
   "metadata": {},
   "outputs": [],
   "source": [
    "X_train,X_test,y_train,y_test=train_test_split(X,y,train_size=0.7,test_size=0.3,random_state=100)"
   ]
  },
  {
   "cell_type": "code",
   "execution_count": 51,
   "id": "7520fd31",
   "metadata": {},
   "outputs": [
    {
     "data": {
      "text/plain": [
       "(6351, 108)"
      ]
     },
     "execution_count": 51,
     "metadata": {},
     "output_type": "execute_result"
    }
   ],
   "source": [
    "X_train.shape"
   ]
  },
  {
   "cell_type": "code",
   "execution_count": 52,
   "id": "671dd304",
   "metadata": {},
   "outputs": [
    {
     "data": {
      "text/plain": [
       "(2723, 108)"
      ]
     },
     "execution_count": 52,
     "metadata": {},
     "output_type": "execute_result"
    }
   ],
   "source": [
    "X_test.shape"
   ]
  },
  {
   "cell_type": "markdown",
   "id": "defefbe2",
   "metadata": {},
   "source": [
    "### Feature Scaling"
   ]
  },
  {
   "cell_type": "code",
   "execution_count": 53,
   "id": "7b114cfd",
   "metadata": {},
   "outputs": [],
   "source": [
    "from sklearn.preprocessing import StandardScaler"
   ]
  },
  {
   "cell_type": "code",
   "execution_count": 54,
   "id": "7da62e55",
   "metadata": {},
   "outputs": [
    {
     "data": {
      "text/html": [
       "<div>\n",
       "<style scoped>\n",
       "    .dataframe tbody tr th:only-of-type {\n",
       "        vertical-align: middle;\n",
       "    }\n",
       "\n",
       "    .dataframe tbody tr th {\n",
       "        vertical-align: top;\n",
       "    }\n",
       "\n",
       "    .dataframe thead th {\n",
       "        text-align: right;\n",
       "    }\n",
       "</style>\n",
       "<table border=\"1\" class=\"dataframe\">\n",
       "  <thead>\n",
       "    <tr style=\"text-align: right;\">\n",
       "      <th></th>\n",
       "      <th>Do Not Email</th>\n",
       "      <th>TotalVisits</th>\n",
       "      <th>Total Time Spent on Website</th>\n",
       "      <th>Page Views Per Visit</th>\n",
       "      <th>A free copy of Mastering The Interview</th>\n",
       "      <th>Lead Origin_Landing Page Submission</th>\n",
       "      <th>Lead Origin_Lead Add Form</th>\n",
       "      <th>Lead Origin_Lead Import</th>\n",
       "      <th>What is your current occupation_Housewife</th>\n",
       "      <th>What is your current occupation_Other</th>\n",
       "      <th>...</th>\n",
       "      <th>Tags_Still Thinking</th>\n",
       "      <th>Tags_University not recognized</th>\n",
       "      <th>Tags_Want to take admission but has financial problems</th>\n",
       "      <th>Tags_Will revert after reading the email</th>\n",
       "      <th>Tags_in touch with EINS</th>\n",
       "      <th>Tags_invalid number</th>\n",
       "      <th>Tags_number not provided</th>\n",
       "      <th>Tags_opp hangup</th>\n",
       "      <th>Tags_switched off</th>\n",
       "      <th>Tags_wrong number given</th>\n",
       "    </tr>\n",
       "  </thead>\n",
       "  <tbody>\n",
       "    <tr>\n",
       "      <th>3009</th>\n",
       "      <td>0</td>\n",
       "      <td>-0.291512</td>\n",
       "      <td>-0.160255</td>\n",
       "      <td>-0.349573</td>\n",
       "      <td>1</td>\n",
       "      <td>1</td>\n",
       "      <td>0</td>\n",
       "      <td>0</td>\n",
       "      <td>0</td>\n",
       "      <td>0</td>\n",
       "      <td>...</td>\n",
       "      <td>0</td>\n",
       "      <td>0</td>\n",
       "      <td>0</td>\n",
       "      <td>0</td>\n",
       "      <td>0</td>\n",
       "      <td>0</td>\n",
       "      <td>0</td>\n",
       "      <td>0</td>\n",
       "      <td>0</td>\n",
       "      <td>0</td>\n",
       "    </tr>\n",
       "    <tr>\n",
       "      <th>1012</th>\n",
       "      <td>1</td>\n",
       "      <td>-0.291512</td>\n",
       "      <td>-0.540048</td>\n",
       "      <td>-0.349573</td>\n",
       "      <td>0</td>\n",
       "      <td>1</td>\n",
       "      <td>0</td>\n",
       "      <td>0</td>\n",
       "      <td>0</td>\n",
       "      <td>0</td>\n",
       "      <td>...</td>\n",
       "      <td>0</td>\n",
       "      <td>0</td>\n",
       "      <td>0</td>\n",
       "      <td>0</td>\n",
       "      <td>0</td>\n",
       "      <td>0</td>\n",
       "      <td>0</td>\n",
       "      <td>0</td>\n",
       "      <td>0</td>\n",
       "      <td>0</td>\n",
       "    </tr>\n",
       "    <tr>\n",
       "      <th>9226</th>\n",
       "      <td>0</td>\n",
       "      <td>-0.291512</td>\n",
       "      <td>-0.888650</td>\n",
       "      <td>-0.349573</td>\n",
       "      <td>0</td>\n",
       "      <td>0</td>\n",
       "      <td>0</td>\n",
       "      <td>0</td>\n",
       "      <td>0</td>\n",
       "      <td>0</td>\n",
       "      <td>...</td>\n",
       "      <td>0</td>\n",
       "      <td>0</td>\n",
       "      <td>0</td>\n",
       "      <td>0</td>\n",
       "      <td>0</td>\n",
       "      <td>0</td>\n",
       "      <td>0</td>\n",
       "      <td>0</td>\n",
       "      <td>0</td>\n",
       "      <td>0</td>\n",
       "    </tr>\n",
       "    <tr>\n",
       "      <th>4750</th>\n",
       "      <td>0</td>\n",
       "      <td>-0.291512</td>\n",
       "      <td>1.643304</td>\n",
       "      <td>-0.349573</td>\n",
       "      <td>0</td>\n",
       "      <td>1</td>\n",
       "      <td>0</td>\n",
       "      <td>0</td>\n",
       "      <td>0</td>\n",
       "      <td>0</td>\n",
       "      <td>...</td>\n",
       "      <td>0</td>\n",
       "      <td>0</td>\n",
       "      <td>0</td>\n",
       "      <td>0</td>\n",
       "      <td>0</td>\n",
       "      <td>0</td>\n",
       "      <td>0</td>\n",
       "      <td>0</td>\n",
       "      <td>0</td>\n",
       "      <td>0</td>\n",
       "    </tr>\n",
       "    <tr>\n",
       "      <th>7987</th>\n",
       "      <td>0</td>\n",
       "      <td>-0.291512</td>\n",
       "      <td>2.017593</td>\n",
       "      <td>-0.349573</td>\n",
       "      <td>0</td>\n",
       "      <td>1</td>\n",
       "      <td>0</td>\n",
       "      <td>0</td>\n",
       "      <td>0</td>\n",
       "      <td>0</td>\n",
       "      <td>...</td>\n",
       "      <td>0</td>\n",
       "      <td>0</td>\n",
       "      <td>0</td>\n",
       "      <td>0</td>\n",
       "      <td>0</td>\n",
       "      <td>0</td>\n",
       "      <td>0</td>\n",
       "      <td>0</td>\n",
       "      <td>0</td>\n",
       "      <td>0</td>\n",
       "    </tr>\n",
       "  </tbody>\n",
       "</table>\n",
       "<p>5 rows × 108 columns</p>\n",
       "</div>"
      ],
      "text/plain": [
       "      Do Not Email  TotalVisits  Total Time Spent on Website  \\\n",
       "3009             0    -0.291512                    -0.160255   \n",
       "1012             1    -0.291512                    -0.540048   \n",
       "9226             0    -0.291512                    -0.888650   \n",
       "4750             0    -0.291512                     1.643304   \n",
       "7987             0    -0.291512                     2.017593   \n",
       "\n",
       "      Page Views Per Visit  A free copy of Mastering The Interview  \\\n",
       "3009             -0.349573                                       1   \n",
       "1012             -0.349573                                       0   \n",
       "9226             -0.349573                                       0   \n",
       "4750             -0.349573                                       0   \n",
       "7987             -0.349573                                       0   \n",
       "\n",
       "      Lead Origin_Landing Page Submission  Lead Origin_Lead Add Form  \\\n",
       "3009                                    1                          0   \n",
       "1012                                    1                          0   \n",
       "9226                                    0                          0   \n",
       "4750                                    1                          0   \n",
       "7987                                    1                          0   \n",
       "\n",
       "      Lead Origin_Lead Import  What is your current occupation_Housewife  \\\n",
       "3009                        0                                          0   \n",
       "1012                        0                                          0   \n",
       "9226                        0                                          0   \n",
       "4750                        0                                          0   \n",
       "7987                        0                                          0   \n",
       "\n",
       "      What is your current occupation_Other  ...  Tags_Still Thinking  \\\n",
       "3009                                      0  ...                    0   \n",
       "1012                                      0  ...                    0   \n",
       "9226                                      0  ...                    0   \n",
       "4750                                      0  ...                    0   \n",
       "7987                                      0  ...                    0   \n",
       "\n",
       "      Tags_University not recognized  \\\n",
       "3009                               0   \n",
       "1012                               0   \n",
       "9226                               0   \n",
       "4750                               0   \n",
       "7987                               0   \n",
       "\n",
       "      Tags_Want to take admission but has financial problems  \\\n",
       "3009                                                  0        \n",
       "1012                                                  0        \n",
       "9226                                                  0        \n",
       "4750                                                  0        \n",
       "7987                                                  0        \n",
       "\n",
       "      Tags_Will revert after reading the email  Tags_in touch with EINS  \\\n",
       "3009                                         0                        0   \n",
       "1012                                         0                        0   \n",
       "9226                                         0                        0   \n",
       "4750                                         0                        0   \n",
       "7987                                         0                        0   \n",
       "\n",
       "      Tags_invalid number  Tags_number not provided  Tags_opp hangup  \\\n",
       "3009                    0                         0                0   \n",
       "1012                    0                         0                0   \n",
       "9226                    0                         0                0   \n",
       "4750                    0                         0                0   \n",
       "7987                    0                         0                0   \n",
       "\n",
       "      Tags_switched off  Tags_wrong number given  \n",
       "3009                  0                        0  \n",
       "1012                  0                        0  \n",
       "9226                  0                        0  \n",
       "4750                  0                        0  \n",
       "7987                  0                        0  \n",
       "\n",
       "[5 rows x 108 columns]"
      ]
     },
     "execution_count": 54,
     "metadata": {},
     "output_type": "execute_result"
    }
   ],
   "source": [
    "# Scaling the variables.\n",
    "\n",
    "scaler = StandardScaler()\n",
    "\n",
    "Num_cols = [\"TotalVisits\", \"Total Time Spent on Website\",\"Page Views Per Visit\"]\n",
    "\n",
    "X_train[Num_cols] = scaler.fit_transform(X_train[Num_cols])\n",
    "\n",
    "X_train.head()"
   ]
  },
  {
   "cell_type": "markdown",
   "id": "dac34570",
   "metadata": {},
   "source": [
    "### Model Building"
   ]
  },
  {
   "cell_type": "code",
   "execution_count": 55,
   "id": "a709fd9c",
   "metadata": {},
   "outputs": [],
   "source": [
    "# Importing Libraries.\n",
    "\n",
    "import statsmodels.api as sm"
   ]
  },
  {
   "cell_type": "code",
   "execution_count": 56,
   "id": "8f54afdc",
   "metadata": {},
   "outputs": [],
   "source": [
    "# Importing and Running RFE with 15 variables as output.\n",
    "\n",
    "from sklearn.linear_model import LogisticRegression\n",
    "logreg = LogisticRegression()\n",
    "\n",
    "from sklearn.feature_selection import RFE\n",
    "rfe = RFE(logreg, 15)\n",
    "rfe = rfe.fit(X_train, y_train)"
   ]
  },
  {
   "cell_type": "code",
   "execution_count": 57,
   "id": "e5e65057",
   "metadata": {},
   "outputs": [
    {
     "data": {
      "text/plain": [
       "array([ True, False, False, False, False, False, False, False, False,\n",
       "       False, False, False, False, False, False, False, False, False,\n",
       "       False, False, False, False, False, False, False, False, False,\n",
       "       False, False, False, False, False, False, False, False, False,\n",
       "       False, False, False, False, False, False, False, False,  True,\n",
       "       False, False, False, False, False, False, False, False, False,\n",
       "       False, False, False, False, False, False, False, False,  True,\n",
       "       False, False, False, False, False, False, False, False, False,\n",
       "       False, False,  True, False, False, False,  True, False, False,\n",
       "       False,  True,  True, False, False, False, False, False, False,\n",
       "       False,  True, False,  True, False, False,  True, False, False,\n",
       "       False, False,  True, False,  True,  True, False,  True,  True])"
      ]
     },
     "execution_count": 57,
     "metadata": {},
     "output_type": "execute_result"
    }
   ],
   "source": [
    "rfe.support_"
   ]
  },
  {
   "cell_type": "code",
   "execution_count": 58,
   "id": "74a81df0",
   "metadata": {},
   "outputs": [
    {
     "data": {
      "text/plain": [
       "[('Do Not Email', True, 1),\n",
       " ('TotalVisits', False, 59),\n",
       " ('Total Time Spent on Website', False, 5),\n",
       " ('Page Views Per Visit', False, 78),\n",
       " ('A free copy of Mastering The Interview', False, 58),\n",
       " ('Lead Origin_Landing Page Submission', False, 4),\n",
       " ('Lead Origin_Lead Add Form', False, 2),\n",
       " ('Lead Origin_Lead Import', False, 37),\n",
       " ('What is your current occupation_Housewife', False, 55),\n",
       " ('What is your current occupation_Other', False, 53),\n",
       " ('What is your current occupation_Student', False, 11),\n",
       " ('What is your current occupation_Unemployed', False, 12),\n",
       " ('What is your current occupation_Working Professional', False, 34),\n",
       " ('Specialization_Business Administration', False, 67),\n",
       " ('Specialization_E-Business', False, 65),\n",
       " ('Specialization_E-COMMERCE', False, 25),\n",
       " ('Specialization_Finance Management', False, 46),\n",
       " ('Specialization_Healthcare Management', False, 71),\n",
       " ('Specialization_Hospitality Management', False, 70),\n",
       " ('Specialization_Human Resource Management', False, 66),\n",
       " ('Specialization_IT Projects Management', False, 27),\n",
       " ('Specialization_International Business', False, 35),\n",
       " ('Specialization_Marketing Management', False, 26),\n",
       " ('Specialization_Media and Advertising', False, 47),\n",
       " ('Specialization_Not Given', False, 48),\n",
       " ('Specialization_Operations Management', False, 90),\n",
       " ('Specialization_Retail Management', False, 89),\n",
       " ('Specialization_Rural and Agribusiness', False, 60),\n",
       " ('Specialization_Services Excellence', False, 28),\n",
       " ('Specialization_Supply Chain Management', False, 38),\n",
       " ('Specialization_Travel and Tourism', False, 17),\n",
       " ('Lead Source_Direct Traffic', False, 29),\n",
       " ('Lead Source_Facebook', False, 52),\n",
       " ('Lead Source_Google', False, 32),\n",
       " ('Lead Source_Live Chat', False, 92),\n",
       " ('Lead Source_NC_EDM', False, 14),\n",
       " ('Lead Source_Olark Chat', False, 8),\n",
       " ('Lead Source_Organic Search', False, 30),\n",
       " ('Lead Source_Pay per Click Ads', False, 91),\n",
       " ('Lead Source_Press_Release', False, 75),\n",
       " ('Lead Source_Reference', False, 33),\n",
       " ('Lead Source_Referral Sites', False, 31),\n",
       " ('Lead Source_Social Media', False, 81),\n",
       " ('Lead Source_WeLearn', False, 94),\n",
       " ('Lead Source_Welingak Website', True, 1),\n",
       " ('Lead Source_bing', False, 54),\n",
       " ('Lead Source_blog', False, 49),\n",
       " ('Lead Source_google', False, 40),\n",
       " ('Lead Source_testone', False, 88),\n",
       " ('Lead Source_welearnblog_Home', False, 56),\n",
       " ('Lead Source_youtubechannel', False, 74),\n",
       " ('Last Activity_Converted to Lead', False, 19),\n",
       " ('Last Activity_Email Bounced', False, 43),\n",
       " ('Last Activity_Email Link Clicked', False, 64),\n",
       " ('Last Activity_Email Marked Spam', False, 83),\n",
       " ('Last Activity_Email Opened', False, 72),\n",
       " ('Last Activity_Email Received', False, 86),\n",
       " ('Last Activity_Form Submitted on Website', False, 51),\n",
       " ('Last Activity_Had a Phone Conversation', False, 39),\n",
       " ('Last Activity_Olark Chat Conversation', False, 10),\n",
       " ('Last Activity_Page Visited on Website', False, 36),\n",
       " ('Last Activity_Resubscribed to emails', False, 84),\n",
       " ('Last Activity_SMS Sent', True, 1),\n",
       " ('Last Activity_Unreachable', False, 63),\n",
       " ('Last Activity_Unsubscribed', False, 24),\n",
       " ('Last Activity_View in browser link Clicked', False, 20),\n",
       " ('Last Activity_Visited Booth in Tradeshow', False, 93),\n",
       " ('Last Notable Activity_Email Bounced', False, 18),\n",
       " ('Last Notable Activity_Email Link Clicked', False, 9),\n",
       " ('Last Notable Activity_Email Marked Spam', False, 82),\n",
       " ('Last Notable Activity_Email Opened', False, 73),\n",
       " ('Last Notable Activity_Email Received', False, 87),\n",
       " ('Last Notable Activity_Form Submitted on Website', False, 80),\n",
       " ('Last Notable Activity_Had a Phone Conversation', False, 69),\n",
       " ('Last Notable Activity_Modified', True, 1),\n",
       " ('Last Notable Activity_Olark Chat Conversation', False, 3),\n",
       " ('Last Notable Activity_Page Visited on Website', False, 57),\n",
       " ('Last Notable Activity_Resubscribed to emails', False, 85),\n",
       " ('Last Notable Activity_SMS Sent', True, 1),\n",
       " ('Last Notable Activity_Unreachable', False, 45),\n",
       " ('Last Notable Activity_Unsubscribed', False, 61),\n",
       " ('Last Notable Activity_View in browser link Clicked', False, 79),\n",
       " ('Tags_Busy', True, 1),\n",
       " ('Tags_Closed by Horizzon', True, 1),\n",
       " ('Tags_Diploma holder (Not Eligible)', False, 13),\n",
       " ('Tags_Graduation in progress', False, 23),\n",
       " ('Tags_In confusion whether part time or DLP', False, 42),\n",
       " ('Tags_Interested  in full time MBA', False, 21),\n",
       " ('Tags_Interested in Next batch', False, 7),\n",
       " ('Tags_Interested in other courses', False, 16),\n",
       " ('Tags_Lateral student', False, 6),\n",
       " ('Tags_Lost to EINS', True, 1),\n",
       " ('Tags_Lost to Others', False, 41),\n",
       " ('Tags_Not Given', True, 1),\n",
       " ('Tags_Not doing further education', False, 15),\n",
       " ('Tags_Recognition issue (DEC approval)', False, 77),\n",
       " ('Tags_Ringing', True, 1),\n",
       " ('Tags_Shall take in the next coming month', False, 62),\n",
       " ('Tags_Still Thinking', False, 44),\n",
       " ('Tags_University not recognized', False, 76),\n",
       " ('Tags_Want to take admission but has financial problems', False, 50),\n",
       " ('Tags_Will revert after reading the email', True, 1),\n",
       " ('Tags_in touch with EINS', False, 22),\n",
       " ('Tags_invalid number', True, 1),\n",
       " ('Tags_number not provided', True, 1),\n",
       " ('Tags_opp hangup', False, 68),\n",
       " ('Tags_switched off', True, 1),\n",
       " ('Tags_wrong number given', True, 1)]"
      ]
     },
     "execution_count": 58,
     "metadata": {},
     "output_type": "execute_result"
    }
   ],
   "source": [
    "# list of all the features.\n",
    "\n",
    "list(zip(X_train.columns, rfe.support_, rfe.ranking_))"
   ]
  },
  {
   "cell_type": "code",
   "execution_count": 59,
   "id": "4fdf3b27",
   "metadata": {},
   "outputs": [],
   "source": [
    "rfe_selected_cols = X_train.columns[rfe.support_]"
   ]
  },
  {
   "cell_type": "markdown",
   "id": "cac29988",
   "metadata": {},
   "source": [
    "### Building Model 1"
   ]
  },
  {
   "cell_type": "code",
   "execution_count": 60,
   "id": "7b433da7",
   "metadata": {},
   "outputs": [
    {
     "data": {
      "text/html": [
       "<table class=\"simpletable\">\n",
       "<caption>Generalized Linear Model Regression Results</caption>\n",
       "<tr>\n",
       "  <th>Dep. Variable:</th>       <td>Converted</td>    <th>  No. Observations:  </th>  <td>  6351</td> \n",
       "</tr>\n",
       "<tr>\n",
       "  <th>Model:</th>                  <td>GLM</td>       <th>  Df Residuals:      </th>  <td>  6335</td> \n",
       "</tr>\n",
       "<tr>\n",
       "  <th>Model Family:</th>        <td>Binomial</td>     <th>  Df Model:          </th>  <td>    15</td> \n",
       "</tr>\n",
       "<tr>\n",
       "  <th>Link Function:</th>         <td>logit</td>      <th>  Scale:             </th> <td>  1.0000</td>\n",
       "</tr>\n",
       "<tr>\n",
       "  <th>Method:</th>                <td>IRLS</td>       <th>  Log-Likelihood:    </th> <td> -1348.5</td>\n",
       "</tr>\n",
       "<tr>\n",
       "  <th>Date:</th>            <td>Tue, 09 Aug 2022</td> <th>  Deviance:          </th> <td>  2696.9</td>\n",
       "</tr>\n",
       "<tr>\n",
       "  <th>Time:</th>                <td>17:31:11</td>     <th>  Pearson chi2:      </th> <td>1.17e+04</td>\n",
       "</tr>\n",
       "<tr>\n",
       "  <th>No. Iterations:</th>         <td>24</td>        <th>                     </th>     <td> </td>   \n",
       "</tr>\n",
       "<tr>\n",
       "  <th>Covariance Type:</th>     <td>nonrobust</td>    <th>                     </th>     <td> </td>   \n",
       "</tr>\n",
       "</table>\n",
       "<table class=\"simpletable\">\n",
       "<tr>\n",
       "                      <td></td>                        <th>coef</th>     <th>std err</th>      <th>z</th>      <th>P>|z|</th>  <th>[0.025</th>    <th>0.975]</th>  \n",
       "</tr>\n",
       "<tr>\n",
       "  <th>const</th>                                    <td>   -2.9644</td> <td>    0.185</td> <td>  -16.064</td> <td> 0.000</td> <td>   -3.326</td> <td>   -2.603</td>\n",
       "</tr>\n",
       "<tr>\n",
       "  <th>Do Not Email</th>                             <td>   -1.2136</td> <td>    0.249</td> <td>   -4.867</td> <td> 0.000</td> <td>   -1.702</td> <td>   -0.725</td>\n",
       "</tr>\n",
       "<tr>\n",
       "  <th>Lead Source_Welingak Website</th>             <td>    4.5221</td> <td>    0.737</td> <td>    6.132</td> <td> 0.000</td> <td>    3.077</td> <td>    5.967</td>\n",
       "</tr>\n",
       "<tr>\n",
       "  <th>Last Activity_SMS Sent</th>                   <td>    1.3822</td> <td>    0.217</td> <td>    6.359</td> <td> 0.000</td> <td>    0.956</td> <td>    1.808</td>\n",
       "</tr>\n",
       "<tr>\n",
       "  <th>Last Notable Activity_Modified</th>           <td>   -1.3953</td> <td>    0.150</td> <td>   -9.282</td> <td> 0.000</td> <td>   -1.690</td> <td>   -1.101</td>\n",
       "</tr>\n",
       "<tr>\n",
       "  <th>Last Notable Activity_SMS Sent</th>           <td>    1.1435</td> <td>    0.252</td> <td>    4.542</td> <td> 0.000</td> <td>    0.650</td> <td>    1.637</td>\n",
       "</tr>\n",
       "<tr>\n",
       "  <th>Tags_Busy</th>                                <td>    1.9770</td> <td>    0.292</td> <td>    6.760</td> <td> 0.000</td> <td>    1.404</td> <td>    2.550</td>\n",
       "</tr>\n",
       "<tr>\n",
       "  <th>Tags_Closed by Horizzon</th>                  <td>    8.4913</td> <td>    0.738</td> <td>   11.500</td> <td> 0.000</td> <td>    7.044</td> <td>    9.938</td>\n",
       "</tr>\n",
       "<tr>\n",
       "  <th>Tags_Lost to EINS</th>                        <td>    7.8388</td> <td>    0.744</td> <td>   10.536</td> <td> 0.000</td> <td>    6.381</td> <td>    9.297</td>\n",
       "</tr>\n",
       "<tr>\n",
       "  <th>Tags_Not Given</th>                           <td>    1.5848</td> <td>    0.188</td> <td>    8.416</td> <td> 0.000</td> <td>    1.216</td> <td>    1.954</td>\n",
       "</tr>\n",
       "<tr>\n",
       "  <th>Tags_Ringing</th>                             <td>   -2.1562</td> <td>    0.304</td> <td>   -7.088</td> <td> 0.000</td> <td>   -2.752</td> <td>   -1.560</td>\n",
       "</tr>\n",
       "<tr>\n",
       "  <th>Tags_Will revert after reading the email</th> <td>    6.4683</td> <td>    0.251</td> <td>   25.779</td> <td> 0.000</td> <td>    5.977</td> <td>    6.960</td>\n",
       "</tr>\n",
       "<tr>\n",
       "  <th>Tags_invalid number</th>                      <td>  -23.7428</td> <td> 2.45e+04</td> <td>   -0.001</td> <td> 0.999</td> <td>-4.81e+04</td> <td> 4.81e+04</td>\n",
       "</tr>\n",
       "<tr>\n",
       "  <th>Tags_number not provided</th>                 <td>  -23.5066</td> <td> 4.26e+04</td> <td>   -0.001</td> <td> 1.000</td> <td>-8.35e+04</td> <td> 8.35e+04</td>\n",
       "</tr>\n",
       "<tr>\n",
       "  <th>Tags_switched off</th>                        <td>   -2.1987</td> <td>    0.553</td> <td>   -3.978</td> <td> 0.000</td> <td>   -3.282</td> <td>   -1.116</td>\n",
       "</tr>\n",
       "<tr>\n",
       "  <th>Tags_wrong number given</th>                  <td>  -23.5854</td> <td> 3.36e+04</td> <td>   -0.001</td> <td> 0.999</td> <td>-6.58e+04</td> <td> 6.58e+04</td>\n",
       "</tr>\n",
       "</table>"
      ],
      "text/plain": [
       "<class 'statsmodels.iolib.summary.Summary'>\n",
       "\"\"\"\n",
       "                 Generalized Linear Model Regression Results                  \n",
       "==============================================================================\n",
       "Dep. Variable:              Converted   No. Observations:                 6351\n",
       "Model:                            GLM   Df Residuals:                     6335\n",
       "Model Family:                Binomial   Df Model:                           15\n",
       "Link Function:                  logit   Scale:                          1.0000\n",
       "Method:                          IRLS   Log-Likelihood:                -1348.5\n",
       "Date:                Tue, 09 Aug 2022   Deviance:                       2696.9\n",
       "Time:                        17:31:11   Pearson chi2:                 1.17e+04\n",
       "No. Iterations:                    24                                         \n",
       "Covariance Type:            nonrobust                                         \n",
       "============================================================================================================\n",
       "                                               coef    std err          z      P>|z|      [0.025      0.975]\n",
       "------------------------------------------------------------------------------------------------------------\n",
       "const                                       -2.9644      0.185    -16.064      0.000      -3.326      -2.603\n",
       "Do Not Email                                -1.2136      0.249     -4.867      0.000      -1.702      -0.725\n",
       "Lead Source_Welingak Website                 4.5221      0.737      6.132      0.000       3.077       5.967\n",
       "Last Activity_SMS Sent                       1.3822      0.217      6.359      0.000       0.956       1.808\n",
       "Last Notable Activity_Modified              -1.3953      0.150     -9.282      0.000      -1.690      -1.101\n",
       "Last Notable Activity_SMS Sent               1.1435      0.252      4.542      0.000       0.650       1.637\n",
       "Tags_Busy                                    1.9770      0.292      6.760      0.000       1.404       2.550\n",
       "Tags_Closed by Horizzon                      8.4913      0.738     11.500      0.000       7.044       9.938\n",
       "Tags_Lost to EINS                            7.8388      0.744     10.536      0.000       6.381       9.297\n",
       "Tags_Not Given                               1.5848      0.188      8.416      0.000       1.216       1.954\n",
       "Tags_Ringing                                -2.1562      0.304     -7.088      0.000      -2.752      -1.560\n",
       "Tags_Will revert after reading the email     6.4683      0.251     25.779      0.000       5.977       6.960\n",
       "Tags_invalid number                        -23.7428   2.45e+04     -0.001      0.999   -4.81e+04    4.81e+04\n",
       "Tags_number not provided                   -23.5066   4.26e+04     -0.001      1.000   -8.35e+04    8.35e+04\n",
       "Tags_switched off                           -2.1987      0.553     -3.978      0.000      -3.282      -1.116\n",
       "Tags_wrong number given                    -23.5854   3.36e+04     -0.001      0.999   -6.58e+04    6.58e+04\n",
       "============================================================================================================\n",
       "\"\"\""
      ]
     },
     "execution_count": 60,
     "metadata": {},
     "output_type": "execute_result"
    }
   ],
   "source": [
    "# Building Model 1.\n",
    "\n",
    "X_train_sm = sm.add_constant(X_train[rfe_selected_cols])\n",
    "model_1 = sm.GLM(y_train,X_train_sm, family = sm.families.Binomial())\n",
    "res1 = model_1.fit()\n",
    "res1.summary()"
   ]
  },
  {
   "cell_type": "code",
   "execution_count": 61,
   "id": "cf86a6fb",
   "metadata": {},
   "outputs": [],
   "source": [
    "# Removing column having high p-value\n",
    "rfe_selected_cols=rfe_selected_cols.drop('Tags_number not provided')"
   ]
  },
  {
   "cell_type": "code",
   "execution_count": 62,
   "id": "43a99cbd",
   "metadata": {},
   "outputs": [
    {
     "data": {
      "text/plain": [
       "Index(['Do Not Email', 'Lead Source_Welingak Website',\n",
       "       'Last Activity_SMS Sent', 'Last Notable Activity_Modified',\n",
       "       'Last Notable Activity_SMS Sent', 'Tags_Busy',\n",
       "       'Tags_Closed by Horizzon', 'Tags_Lost to EINS', 'Tags_Not Given',\n",
       "       'Tags_Ringing', 'Tags_Will revert after reading the email',\n",
       "       'Tags_invalid number', 'Tags_switched off', 'Tags_wrong number given'],\n",
       "      dtype='object')"
      ]
     },
     "execution_count": 62,
     "metadata": {},
     "output_type": "execute_result"
    }
   ],
   "source": [
    "rfe_selected_cols"
   ]
  },
  {
   "cell_type": "markdown",
   "id": "2602b3f6",
   "metadata": {},
   "source": [
    "### Building Model 2"
   ]
  },
  {
   "cell_type": "code",
   "execution_count": 63,
   "id": "d0149edb",
   "metadata": {},
   "outputs": [
    {
     "data": {
      "text/html": [
       "<table class=\"simpletable\">\n",
       "<caption>Generalized Linear Model Regression Results</caption>\n",
       "<tr>\n",
       "  <th>Dep. Variable:</th>       <td>Converted</td>    <th>  No. Observations:  </th>  <td>  6351</td> \n",
       "</tr>\n",
       "<tr>\n",
       "  <th>Model:</th>                  <td>GLM</td>       <th>  Df Residuals:      </th>  <td>  6336</td> \n",
       "</tr>\n",
       "<tr>\n",
       "  <th>Model Family:</th>        <td>Binomial</td>     <th>  Df Model:          </th>  <td>    14</td> \n",
       "</tr>\n",
       "<tr>\n",
       "  <th>Link Function:</th>         <td>logit</td>      <th>  Scale:             </th> <td>  1.0000</td>\n",
       "</tr>\n",
       "<tr>\n",
       "  <th>Method:</th>                <td>IRLS</td>       <th>  Log-Likelihood:    </th> <td> -1351.0</td>\n",
       "</tr>\n",
       "<tr>\n",
       "  <th>Date:</th>            <td>Tue, 09 Aug 2022</td> <th>  Deviance:          </th> <td>  2702.1</td>\n",
       "</tr>\n",
       "<tr>\n",
       "  <th>Time:</th>                <td>17:31:12</td>     <th>  Pearson chi2:      </th> <td>1.16e+04</td>\n",
       "</tr>\n",
       "<tr>\n",
       "  <th>No. Iterations:</th>         <td>23</td>        <th>                     </th>     <td> </td>   \n",
       "</tr>\n",
       "<tr>\n",
       "  <th>Covariance Type:</th>     <td>nonrobust</td>    <th>                     </th>     <td> </td>   \n",
       "</tr>\n",
       "</table>\n",
       "<table class=\"simpletable\">\n",
       "<tr>\n",
       "                      <td></td>                        <th>coef</th>     <th>std err</th>      <th>z</th>      <th>P>|z|</th>  <th>[0.025</th>    <th>0.975]</th>  \n",
       "</tr>\n",
       "<tr>\n",
       "  <th>const</th>                                    <td>   -3.0279</td> <td>    0.185</td> <td>  -16.328</td> <td> 0.000</td> <td>   -3.391</td> <td>   -2.664</td>\n",
       "</tr>\n",
       "<tr>\n",
       "  <th>Do Not Email</th>                             <td>   -1.2277</td> <td>    0.248</td> <td>   -4.949</td> <td> 0.000</td> <td>   -1.714</td> <td>   -0.741</td>\n",
       "</tr>\n",
       "<tr>\n",
       "  <th>Lead Source_Welingak Website</th>             <td>    4.5217</td> <td>    0.737</td> <td>    6.132</td> <td> 0.000</td> <td>    3.076</td> <td>    5.967</td>\n",
       "</tr>\n",
       "<tr>\n",
       "  <th>Last Activity_SMS Sent</th>                   <td>    1.3789</td> <td>    0.217</td> <td>    6.341</td> <td> 0.000</td> <td>    0.953</td> <td>    1.805</td>\n",
       "</tr>\n",
       "<tr>\n",
       "  <th>Last Notable Activity_Modified</th>           <td>   -1.3921</td> <td>    0.150</td> <td>   -9.255</td> <td> 0.000</td> <td>   -1.687</td> <td>   -1.097</td>\n",
       "</tr>\n",
       "<tr>\n",
       "  <th>Last Notable Activity_SMS Sent</th>           <td>    1.1255</td> <td>    0.251</td> <td>    4.475</td> <td> 0.000</td> <td>    0.633</td> <td>    1.618</td>\n",
       "</tr>\n",
       "<tr>\n",
       "  <th>Tags_Busy</th>                                <td>    2.0519</td> <td>    0.292</td> <td>    7.039</td> <td> 0.000</td> <td>    1.481</td> <td>    2.623</td>\n",
       "</tr>\n",
       "<tr>\n",
       "  <th>Tags_Closed by Horizzon</th>                  <td>    8.5524</td> <td>    0.739</td> <td>   11.578</td> <td> 0.000</td> <td>    7.105</td> <td>   10.000</td>\n",
       "</tr>\n",
       "<tr>\n",
       "  <th>Tags_Lost to EINS</th>                        <td>    7.9011</td> <td>    0.744</td> <td>   10.615</td> <td> 0.000</td> <td>    6.442</td> <td>    9.360</td>\n",
       "</tr>\n",
       "<tr>\n",
       "  <th>Tags_Not Given</th>                           <td>    1.6534</td> <td>    0.189</td> <td>    8.771</td> <td> 0.000</td> <td>    1.284</td> <td>    2.023</td>\n",
       "</tr>\n",
       "<tr>\n",
       "  <th>Tags_Ringing</th>                             <td>   -2.0739</td> <td>    0.303</td> <td>   -6.845</td> <td> 0.000</td> <td>   -2.668</td> <td>   -1.480</td>\n",
       "</tr>\n",
       "<tr>\n",
       "  <th>Tags_Will revert after reading the email</th> <td>    6.5326</td> <td>    0.251</td> <td>   25.976</td> <td> 0.000</td> <td>    6.040</td> <td>    7.025</td>\n",
       "</tr>\n",
       "<tr>\n",
       "  <th>Tags_invalid number</th>                      <td>  -22.6612</td> <td> 1.49e+04</td> <td>   -0.002</td> <td> 0.999</td> <td>-2.92e+04</td> <td> 2.92e+04</td>\n",
       "</tr>\n",
       "<tr>\n",
       "  <th>Tags_switched off</th>                        <td>   -2.1151</td> <td>    0.552</td> <td>   -3.832</td> <td> 0.000</td> <td>   -3.197</td> <td>   -1.033</td>\n",
       "</tr>\n",
       "<tr>\n",
       "  <th>Tags_wrong number given</th>                  <td>  -22.5035</td> <td> 2.04e+04</td> <td>   -0.001</td> <td> 0.999</td> <td>   -4e+04</td> <td> 3.99e+04</td>\n",
       "</tr>\n",
       "</table>"
      ],
      "text/plain": [
       "<class 'statsmodels.iolib.summary.Summary'>\n",
       "\"\"\"\n",
       "                 Generalized Linear Model Regression Results                  \n",
       "==============================================================================\n",
       "Dep. Variable:              Converted   No. Observations:                 6351\n",
       "Model:                            GLM   Df Residuals:                     6336\n",
       "Model Family:                Binomial   Df Model:                           14\n",
       "Link Function:                  logit   Scale:                          1.0000\n",
       "Method:                          IRLS   Log-Likelihood:                -1351.0\n",
       "Date:                Tue, 09 Aug 2022   Deviance:                       2702.1\n",
       "Time:                        17:31:12   Pearson chi2:                 1.16e+04\n",
       "No. Iterations:                    23                                         \n",
       "Covariance Type:            nonrobust                                         \n",
       "============================================================================================================\n",
       "                                               coef    std err          z      P>|z|      [0.025      0.975]\n",
       "------------------------------------------------------------------------------------------------------------\n",
       "const                                       -3.0279      0.185    -16.328      0.000      -3.391      -2.664\n",
       "Do Not Email                                -1.2277      0.248     -4.949      0.000      -1.714      -0.741\n",
       "Lead Source_Welingak Website                 4.5217      0.737      6.132      0.000       3.076       5.967\n",
       "Last Activity_SMS Sent                       1.3789      0.217      6.341      0.000       0.953       1.805\n",
       "Last Notable Activity_Modified              -1.3921      0.150     -9.255      0.000      -1.687      -1.097\n",
       "Last Notable Activity_SMS Sent               1.1255      0.251      4.475      0.000       0.633       1.618\n",
       "Tags_Busy                                    2.0519      0.292      7.039      0.000       1.481       2.623\n",
       "Tags_Closed by Horizzon                      8.5524      0.739     11.578      0.000       7.105      10.000\n",
       "Tags_Lost to EINS                            7.9011      0.744     10.615      0.000       6.442       9.360\n",
       "Tags_Not Given                               1.6534      0.189      8.771      0.000       1.284       2.023\n",
       "Tags_Ringing                                -2.0739      0.303     -6.845      0.000      -2.668      -1.480\n",
       "Tags_Will revert after reading the email     6.5326      0.251     25.976      0.000       6.040       7.025\n",
       "Tags_invalid number                        -22.6612   1.49e+04     -0.002      0.999   -2.92e+04    2.92e+04\n",
       "Tags_switched off                           -2.1151      0.552     -3.832      0.000      -3.197      -1.033\n",
       "Tags_wrong number given                    -22.5035   2.04e+04     -0.001      0.999      -4e+04    3.99e+04\n",
       "============================================================================================================\n",
       "\"\"\""
      ]
     },
     "execution_count": 63,
     "metadata": {},
     "output_type": "execute_result"
    }
   ],
   "source": [
    "# Building Model 2.\n",
    "\n",
    "X_train_sm = sm.add_constant(X_train[rfe_selected_cols])\n",
    "model_2 = sm.GLM(y_train,X_train_sm, family = sm.families.Binomial())\n",
    "res2 = model_2.fit()\n",
    "res2.summary()"
   ]
  },
  {
   "cell_type": "code",
   "execution_count": 64,
   "id": "16ba5830",
   "metadata": {},
   "outputs": [],
   "source": [
    "# Removing column having high p-value\n",
    "rfe_selected_cols=rfe_selected_cols.drop('Tags_invalid number')"
   ]
  },
  {
   "cell_type": "markdown",
   "id": "429fdbe0",
   "metadata": {},
   "source": [
    "### Building Model 3"
   ]
  },
  {
   "cell_type": "code",
   "execution_count": 65,
   "id": "6e802287",
   "metadata": {},
   "outputs": [
    {
     "data": {
      "text/html": [
       "<table class=\"simpletable\">\n",
       "<caption>Generalized Linear Model Regression Results</caption>\n",
       "<tr>\n",
       "  <th>Dep. Variable:</th>       <td>Converted</td>    <th>  No. Observations:  </th>  <td>  6351</td> \n",
       "</tr>\n",
       "<tr>\n",
       "  <th>Model:</th>                  <td>GLM</td>       <th>  Df Residuals:      </th>  <td>  6337</td> \n",
       "</tr>\n",
       "<tr>\n",
       "  <th>Model Family:</th>        <td>Binomial</td>     <th>  Df Model:          </th>  <td>    13</td> \n",
       "</tr>\n",
       "<tr>\n",
       "  <th>Link Function:</th>         <td>logit</td>      <th>  Scale:             </th> <td>  1.0000</td>\n",
       "</tr>\n",
       "<tr>\n",
       "  <th>Method:</th>                <td>IRLS</td>       <th>  Log-Likelihood:    </th> <td> -1359.3</td>\n",
       "</tr>\n",
       "<tr>\n",
       "  <th>Date:</th>            <td>Tue, 09 Aug 2022</td> <th>  Deviance:          </th> <td>  2718.7</td>\n",
       "</tr>\n",
       "<tr>\n",
       "  <th>Time:</th>                <td>17:31:12</td>     <th>  Pearson chi2:      </th> <td>1.13e+04</td>\n",
       "</tr>\n",
       "<tr>\n",
       "  <th>No. Iterations:</th>         <td>22</td>        <th>                     </th>     <td> </td>   \n",
       "</tr>\n",
       "<tr>\n",
       "  <th>Covariance Type:</th>     <td>nonrobust</td>    <th>                     </th>     <td> </td>   \n",
       "</tr>\n",
       "</table>\n",
       "<table class=\"simpletable\">\n",
       "<tr>\n",
       "                      <td></td>                        <th>coef</th>     <th>std err</th>      <th>z</th>      <th>P>|z|</th>  <th>[0.025</th>    <th>0.975]</th>  \n",
       "</tr>\n",
       "<tr>\n",
       "  <th>const</th>                                    <td>   -3.2368</td> <td>    0.188</td> <td>  -17.205</td> <td> 0.000</td> <td>   -3.605</td> <td>   -2.868</td>\n",
       "</tr>\n",
       "<tr>\n",
       "  <th>Do Not Email</th>                             <td>   -1.2200</td> <td>    0.247</td> <td>   -4.947</td> <td> 0.000</td> <td>   -1.703</td> <td>   -0.737</td>\n",
       "</tr>\n",
       "<tr>\n",
       "  <th>Lead Source_Welingak Website</th>             <td>    4.5128</td> <td>    0.737</td> <td>    6.124</td> <td> 0.000</td> <td>    3.068</td> <td>    5.957</td>\n",
       "</tr>\n",
       "<tr>\n",
       "  <th>Last Activity_SMS Sent</th>                   <td>    1.3665</td> <td>    0.218</td> <td>    6.276</td> <td> 0.000</td> <td>    0.940</td> <td>    1.793</td>\n",
       "</tr>\n",
       "<tr>\n",
       "  <th>Last Notable Activity_Modified</th>           <td>   -1.3836</td> <td>    0.151</td> <td>   -9.182</td> <td> 0.000</td> <td>   -1.679</td> <td>   -1.088</td>\n",
       "</tr>\n",
       "<tr>\n",
       "  <th>Last Notable Activity_SMS Sent</th>           <td>    1.0748</td> <td>    0.251</td> <td>    4.286</td> <td> 0.000</td> <td>    0.583</td> <td>    1.566</td>\n",
       "</tr>\n",
       "<tr>\n",
       "  <th>Tags_Busy</th>                                <td>    2.2933</td> <td>    0.289</td> <td>    7.938</td> <td> 0.000</td> <td>    1.727</td> <td>    2.860</td>\n",
       "</tr>\n",
       "<tr>\n",
       "  <th>Tags_Closed by Horizzon</th>                  <td>    8.7547</td> <td>    0.740</td> <td>   11.838</td> <td> 0.000</td> <td>    7.305</td> <td>   10.204</td>\n",
       "</tr>\n",
       "<tr>\n",
       "  <th>Tags_Lost to EINS</th>                        <td>    8.1033</td> <td>    0.745</td> <td>   10.875</td> <td> 0.000</td> <td>    6.643</td> <td>    9.564</td>\n",
       "</tr>\n",
       "<tr>\n",
       "  <th>Tags_Not Given</th>                           <td>    1.8762</td> <td>    0.189</td> <td>    9.912</td> <td> 0.000</td> <td>    1.505</td> <td>    2.247</td>\n",
       "</tr>\n",
       "<tr>\n",
       "  <th>Tags_Ringing</th>                             <td>   -1.8111</td> <td>    0.299</td> <td>   -6.048</td> <td> 0.000</td> <td>   -2.398</td> <td>   -1.224</td>\n",
       "</tr>\n",
       "<tr>\n",
       "  <th>Tags_Will revert after reading the email</th> <td>    6.7416</td> <td>    0.253</td> <td>   26.608</td> <td> 0.000</td> <td>    6.245</td> <td>    7.238</td>\n",
       "</tr>\n",
       "<tr>\n",
       "  <th>Tags_switched off</th>                        <td>   -1.8502</td> <td>    0.550</td> <td>   -3.365</td> <td> 0.001</td> <td>   -2.928</td> <td>   -0.773</td>\n",
       "</tr>\n",
       "<tr>\n",
       "  <th>Tags_wrong number given</th>                  <td>  -21.2470</td> <td> 1.24e+04</td> <td>   -0.002</td> <td> 0.999</td> <td>-2.43e+04</td> <td> 2.43e+04</td>\n",
       "</tr>\n",
       "</table>"
      ],
      "text/plain": [
       "<class 'statsmodels.iolib.summary.Summary'>\n",
       "\"\"\"\n",
       "                 Generalized Linear Model Regression Results                  \n",
       "==============================================================================\n",
       "Dep. Variable:              Converted   No. Observations:                 6351\n",
       "Model:                            GLM   Df Residuals:                     6337\n",
       "Model Family:                Binomial   Df Model:                           13\n",
       "Link Function:                  logit   Scale:                          1.0000\n",
       "Method:                          IRLS   Log-Likelihood:                -1359.3\n",
       "Date:                Tue, 09 Aug 2022   Deviance:                       2718.7\n",
       "Time:                        17:31:12   Pearson chi2:                 1.13e+04\n",
       "No. Iterations:                    22                                         \n",
       "Covariance Type:            nonrobust                                         \n",
       "============================================================================================================\n",
       "                                               coef    std err          z      P>|z|      [0.025      0.975]\n",
       "------------------------------------------------------------------------------------------------------------\n",
       "const                                       -3.2368      0.188    -17.205      0.000      -3.605      -2.868\n",
       "Do Not Email                                -1.2200      0.247     -4.947      0.000      -1.703      -0.737\n",
       "Lead Source_Welingak Website                 4.5128      0.737      6.124      0.000       3.068       5.957\n",
       "Last Activity_SMS Sent                       1.3665      0.218      6.276      0.000       0.940       1.793\n",
       "Last Notable Activity_Modified              -1.3836      0.151     -9.182      0.000      -1.679      -1.088\n",
       "Last Notable Activity_SMS Sent               1.0748      0.251      4.286      0.000       0.583       1.566\n",
       "Tags_Busy                                    2.2933      0.289      7.938      0.000       1.727       2.860\n",
       "Tags_Closed by Horizzon                      8.7547      0.740     11.838      0.000       7.305      10.204\n",
       "Tags_Lost to EINS                            8.1033      0.745     10.875      0.000       6.643       9.564\n",
       "Tags_Not Given                               1.8762      0.189      9.912      0.000       1.505       2.247\n",
       "Tags_Ringing                                -1.8111      0.299     -6.048      0.000      -2.398      -1.224\n",
       "Tags_Will revert after reading the email     6.7416      0.253     26.608      0.000       6.245       7.238\n",
       "Tags_switched off                           -1.8502      0.550     -3.365      0.001      -2.928      -0.773\n",
       "Tags_wrong number given                    -21.2470   1.24e+04     -0.002      0.999   -2.43e+04    2.43e+04\n",
       "============================================================================================================\n",
       "\"\"\""
      ]
     },
     "execution_count": 65,
     "metadata": {},
     "output_type": "execute_result"
    }
   ],
   "source": [
    "# Building Model 3.\n",
    "\n",
    "X_train_sm = sm.add_constant(X_train[rfe_selected_cols])\n",
    "model_3 = sm.GLM(y_train,X_train_sm, family = sm.families.Binomial())\n",
    "res3 = model_3.fit()\n",
    "res3.summary()"
   ]
  },
  {
   "cell_type": "code",
   "execution_count": 66,
   "id": "f55345f2",
   "metadata": {},
   "outputs": [],
   "source": [
    "# Removing column having high p-value\n",
    "rfe_selected_cols=rfe_selected_cols.drop('Tags_wrong number given')\n"
   ]
  },
  {
   "cell_type": "markdown",
   "id": "0ddabeb0",
   "metadata": {},
   "source": [
    "### Building Model 4"
   ]
  },
  {
   "cell_type": "code",
   "execution_count": 67,
   "id": "5237826d",
   "metadata": {},
   "outputs": [
    {
     "data": {
      "text/html": [
       "<table class=\"simpletable\">\n",
       "<caption>Generalized Linear Model Regression Results</caption>\n",
       "<tr>\n",
       "  <th>Dep. Variable:</th>       <td>Converted</td>    <th>  No. Observations:  </th>  <td>  6351</td> \n",
       "</tr>\n",
       "<tr>\n",
       "  <th>Model:</th>                  <td>GLM</td>       <th>  Df Residuals:      </th>  <td>  6338</td> \n",
       "</tr>\n",
       "<tr>\n",
       "  <th>Model Family:</th>        <td>Binomial</td>     <th>  Df Model:          </th>  <td>    12</td> \n",
       "</tr>\n",
       "<tr>\n",
       "  <th>Link Function:</th>         <td>logit</td>      <th>  Scale:             </th> <td>  1.0000</td>\n",
       "</tr>\n",
       "<tr>\n",
       "  <th>Method:</th>                <td>IRLS</td>       <th>  Log-Likelihood:    </th> <td> -1362.6</td>\n",
       "</tr>\n",
       "<tr>\n",
       "  <th>Date:</th>            <td>Tue, 09 Aug 2022</td> <th>  Deviance:          </th> <td>  2725.3</td>\n",
       "</tr>\n",
       "<tr>\n",
       "  <th>Time:</th>                <td>17:31:12</td>     <th>  Pearson chi2:      </th> <td>1.12e+04</td>\n",
       "</tr>\n",
       "<tr>\n",
       "  <th>No. Iterations:</th>          <td>8</td>        <th>                     </th>     <td> </td>   \n",
       "</tr>\n",
       "<tr>\n",
       "  <th>Covariance Type:</th>     <td>nonrobust</td>    <th>                     </th>     <td> </td>   \n",
       "</tr>\n",
       "</table>\n",
       "<table class=\"simpletable\">\n",
       "<tr>\n",
       "                      <td></td>                        <th>coef</th>     <th>std err</th>      <th>z</th>      <th>P>|z|</th>  <th>[0.025</th>    <th>0.975]</th>  \n",
       "</tr>\n",
       "<tr>\n",
       "  <th>const</th>                                    <td>   -3.3213</td> <td>    0.189</td> <td>  -17.572</td> <td> 0.000</td> <td>   -3.692</td> <td>   -2.951</td>\n",
       "</tr>\n",
       "<tr>\n",
       "  <th>Do Not Email</th>                             <td>   -1.2292</td> <td>    0.246</td> <td>   -5.004</td> <td> 0.000</td> <td>   -1.711</td> <td>   -0.748</td>\n",
       "</tr>\n",
       "<tr>\n",
       "  <th>Lead Source_Welingak Website</th>             <td>    4.5121</td> <td>    0.737</td> <td>    6.123</td> <td> 0.000</td> <td>    3.068</td> <td>    5.956</td>\n",
       "</tr>\n",
       "<tr>\n",
       "  <th>Last Activity_SMS Sent</th>                   <td>    1.3601</td> <td>    0.218</td> <td>    6.246</td> <td> 0.000</td> <td>    0.933</td> <td>    1.787</td>\n",
       "</tr>\n",
       "<tr>\n",
       "  <th>Last Notable Activity_Modified</th>           <td>   -1.3811</td> <td>    0.151</td> <td>   -9.159</td> <td> 0.000</td> <td>   -1.677</td> <td>   -1.086</td>\n",
       "</tr>\n",
       "<tr>\n",
       "  <th>Last Notable Activity_SMS Sent</th>           <td>    1.0598</td> <td>    0.251</td> <td>    4.230</td> <td> 0.000</td> <td>    0.569</td> <td>    1.551</td>\n",
       "</tr>\n",
       "<tr>\n",
       "  <th>Tags_Busy</th>                                <td>    2.3897</td> <td>    0.288</td> <td>    8.300</td> <td> 0.000</td> <td>    1.825</td> <td>    2.954</td>\n",
       "</tr>\n",
       "<tr>\n",
       "  <th>Tags_Closed by Horizzon</th>                  <td>    8.8375</td> <td>    0.740</td> <td>   11.945</td> <td> 0.000</td> <td>    7.387</td> <td>   10.288</td>\n",
       "</tr>\n",
       "<tr>\n",
       "  <th>Tags_Lost to EINS</th>                        <td>    8.1872</td> <td>    0.745</td> <td>   10.983</td> <td> 0.000</td> <td>    6.726</td> <td>    9.648</td>\n",
       "</tr>\n",
       "<tr>\n",
       "  <th>Tags_Not Given</th>                           <td>    1.9663</td> <td>    0.189</td> <td>   10.383</td> <td> 0.000</td> <td>    1.595</td> <td>    2.337</td>\n",
       "</tr>\n",
       "<tr>\n",
       "  <th>Tags_Ringing</th>                             <td>   -1.7079</td> <td>    0.298</td> <td>   -5.728</td> <td> 0.000</td> <td>   -2.292</td> <td>   -1.123</td>\n",
       "</tr>\n",
       "<tr>\n",
       "  <th>Tags_Will revert after reading the email</th> <td>    6.8274</td> <td>    0.254</td> <td>   26.892</td> <td> 0.000</td> <td>    6.330</td> <td>    7.325</td>\n",
       "</tr>\n",
       "<tr>\n",
       "  <th>Tags_switched off</th>                        <td>   -1.7458</td> <td>    0.549</td> <td>   -3.180</td> <td> 0.001</td> <td>   -2.822</td> <td>   -0.670</td>\n",
       "</tr>\n",
       "</table>"
      ],
      "text/plain": [
       "<class 'statsmodels.iolib.summary.Summary'>\n",
       "\"\"\"\n",
       "                 Generalized Linear Model Regression Results                  \n",
       "==============================================================================\n",
       "Dep. Variable:              Converted   No. Observations:                 6351\n",
       "Model:                            GLM   Df Residuals:                     6338\n",
       "Model Family:                Binomial   Df Model:                           12\n",
       "Link Function:                  logit   Scale:                          1.0000\n",
       "Method:                          IRLS   Log-Likelihood:                -1362.6\n",
       "Date:                Tue, 09 Aug 2022   Deviance:                       2725.3\n",
       "Time:                        17:31:12   Pearson chi2:                 1.12e+04\n",
       "No. Iterations:                     8                                         \n",
       "Covariance Type:            nonrobust                                         \n",
       "============================================================================================================\n",
       "                                               coef    std err          z      P>|z|      [0.025      0.975]\n",
       "------------------------------------------------------------------------------------------------------------\n",
       "const                                       -3.3213      0.189    -17.572      0.000      -3.692      -2.951\n",
       "Do Not Email                                -1.2292      0.246     -5.004      0.000      -1.711      -0.748\n",
       "Lead Source_Welingak Website                 4.5121      0.737      6.123      0.000       3.068       5.956\n",
       "Last Activity_SMS Sent                       1.3601      0.218      6.246      0.000       0.933       1.787\n",
       "Last Notable Activity_Modified              -1.3811      0.151     -9.159      0.000      -1.677      -1.086\n",
       "Last Notable Activity_SMS Sent               1.0598      0.251      4.230      0.000       0.569       1.551\n",
       "Tags_Busy                                    2.3897      0.288      8.300      0.000       1.825       2.954\n",
       "Tags_Closed by Horizzon                      8.8375      0.740     11.945      0.000       7.387      10.288\n",
       "Tags_Lost to EINS                            8.1872      0.745     10.983      0.000       6.726       9.648\n",
       "Tags_Not Given                               1.9663      0.189     10.383      0.000       1.595       2.337\n",
       "Tags_Ringing                                -1.7079      0.298     -5.728      0.000      -2.292      -1.123\n",
       "Tags_Will revert after reading the email     6.8274      0.254     26.892      0.000       6.330       7.325\n",
       "Tags_switched off                           -1.7458      0.549     -3.180      0.001      -2.822      -0.670\n",
       "============================================================================================================\n",
       "\"\"\""
      ]
     },
     "execution_count": 67,
     "metadata": {},
     "output_type": "execute_result"
    }
   ],
   "source": [
    "# Building Model 4.\n",
    "\n",
    "X_train_sm = sm.add_constant(X_train[rfe_selected_cols])\n",
    "model_4 = sm.GLM(y_train,X_train_sm, family = sm.families.Binomial())\n",
    "res4 = model_4.fit()\n",
    "res4.summary()"
   ]
  },
  {
   "cell_type": "code",
   "execution_count": 68,
   "id": "d509f852",
   "metadata": {},
   "outputs": [],
   "source": [
    "# Importing libraries.\n",
    "\n",
    "from statsmodels.stats.outliers_influence import variance_inflation_factor"
   ]
  },
  {
   "cell_type": "code",
   "execution_count": 69,
   "id": "6e863bc7",
   "metadata": {},
   "outputs": [
    {
     "data": {
      "text/html": [
       "<div>\n",
       "<style scoped>\n",
       "    .dataframe tbody tr th:only-of-type {\n",
       "        vertical-align: middle;\n",
       "    }\n",
       "\n",
       "    .dataframe tbody tr th {\n",
       "        vertical-align: top;\n",
       "    }\n",
       "\n",
       "    .dataframe thead th {\n",
       "        text-align: right;\n",
       "    }\n",
       "</style>\n",
       "<table border=\"1\" class=\"dataframe\">\n",
       "  <thead>\n",
       "    <tr style=\"text-align: right;\">\n",
       "      <th></th>\n",
       "      <th>Features</th>\n",
       "      <th>VIF</th>\n",
       "    </tr>\n",
       "  </thead>\n",
       "  <tbody>\n",
       "    <tr>\n",
       "      <th>4</th>\n",
       "      <td>Last Notable Activity_SMS Sent</td>\n",
       "      <td>6.13</td>\n",
       "    </tr>\n",
       "    <tr>\n",
       "      <th>2</th>\n",
       "      <td>Last Activity_SMS Sent</td>\n",
       "      <td>5.94</td>\n",
       "    </tr>\n",
       "    <tr>\n",
       "      <th>3</th>\n",
       "      <td>Last Notable Activity_Modified</td>\n",
       "      <td>1.70</td>\n",
       "    </tr>\n",
       "    <tr>\n",
       "      <th>8</th>\n",
       "      <td>Tags_Not Given</td>\n",
       "      <td>1.45</td>\n",
       "    </tr>\n",
       "    <tr>\n",
       "      <th>10</th>\n",
       "      <td>Tags_Will revert after reading the email</td>\n",
       "      <td>1.43</td>\n",
       "    </tr>\n",
       "    <tr>\n",
       "      <th>9</th>\n",
       "      <td>Tags_Ringing</td>\n",
       "      <td>1.15</td>\n",
       "    </tr>\n",
       "    <tr>\n",
       "      <th>0</th>\n",
       "      <td>Do Not Email</td>\n",
       "      <td>1.11</td>\n",
       "    </tr>\n",
       "    <tr>\n",
       "      <th>1</th>\n",
       "      <td>Lead Source_Welingak Website</td>\n",
       "      <td>1.05</td>\n",
       "    </tr>\n",
       "    <tr>\n",
       "      <th>5</th>\n",
       "      <td>Tags_Busy</td>\n",
       "      <td>1.05</td>\n",
       "    </tr>\n",
       "    <tr>\n",
       "      <th>6</th>\n",
       "      <td>Tags_Closed by Horizzon</td>\n",
       "      <td>1.05</td>\n",
       "    </tr>\n",
       "    <tr>\n",
       "      <th>11</th>\n",
       "      <td>Tags_switched off</td>\n",
       "      <td>1.05</td>\n",
       "    </tr>\n",
       "    <tr>\n",
       "      <th>7</th>\n",
       "      <td>Tags_Lost to EINS</td>\n",
       "      <td>1.03</td>\n",
       "    </tr>\n",
       "  </tbody>\n",
       "</table>\n",
       "</div>"
      ],
      "text/plain": [
       "                                    Features   VIF\n",
       "4             Last Notable Activity_SMS Sent  6.13\n",
       "2                     Last Activity_SMS Sent  5.94\n",
       "3             Last Notable Activity_Modified  1.70\n",
       "8                             Tags_Not Given  1.45\n",
       "10  Tags_Will revert after reading the email  1.43\n",
       "9                               Tags_Ringing  1.15\n",
       "0                               Do Not Email  1.11\n",
       "1               Lead Source_Welingak Website  1.05\n",
       "5                                  Tags_Busy  1.05\n",
       "6                    Tags_Closed by Horizzon  1.05\n",
       "11                         Tags_switched off  1.05\n",
       "7                          Tags_Lost to EINS  1.03"
      ]
     },
     "execution_count": 69,
     "metadata": {},
     "output_type": "execute_result"
    }
   ],
   "source": [
    "vif = pd.DataFrame()\n",
    "X = X_train[rfe_selected_cols]\n",
    "vif['Features'] = X.columns\n",
    "vif['VIF'] = [variance_inflation_factor(X.values, i) for i in range(X.shape[1])]\n",
    "vif['VIF'] = round(vif['VIF'], 2)\n",
    "vif = vif.sort_values(by = \"VIF\", ascending = False)\n",
    "vif"
   ]
  },
  {
   "cell_type": "code",
   "execution_count": 70,
   "id": "32520652",
   "metadata": {},
   "outputs": [
    {
     "data": {
      "text/plain": [
       "Index(['Do Not Email', 'Lead Source_Welingak Website',\n",
       "       'Last Activity_SMS Sent', 'Last Notable Activity_Modified', 'Tags_Busy',\n",
       "       'Tags_Closed by Horizzon', 'Tags_Lost to EINS', 'Tags_Not Given',\n",
       "       'Tags_Ringing', 'Tags_Will revert after reading the email',\n",
       "       'Tags_switched off'],\n",
       "      dtype='object')"
      ]
     },
     "execution_count": 70,
     "metadata": {},
     "output_type": "execute_result"
    }
   ],
   "source": [
    "# Removing feature having VIF > 5\n",
    "vif_cols=rfe_selected_cols.drop(\"Last Notable Activity_SMS Sent\")\n",
    "vif_cols"
   ]
  },
  {
   "cell_type": "markdown",
   "id": "467e8c14",
   "metadata": {},
   "source": [
    "### Building Model 5"
   ]
  },
  {
   "cell_type": "code",
   "execution_count": 71,
   "id": "7179ac19",
   "metadata": {},
   "outputs": [
    {
     "data": {
      "text/html": [
       "<table class=\"simpletable\">\n",
       "<caption>Generalized Linear Model Regression Results</caption>\n",
       "<tr>\n",
       "  <th>Dep. Variable:</th>       <td>Converted</td>    <th>  No. Observations:  </th>  <td>  6351</td> \n",
       "</tr>\n",
       "<tr>\n",
       "  <th>Model:</th>                  <td>GLM</td>       <th>  Df Residuals:      </th>  <td>  6339</td> \n",
       "</tr>\n",
       "<tr>\n",
       "  <th>Model Family:</th>        <td>Binomial</td>     <th>  Df Model:          </th>  <td>    11</td> \n",
       "</tr>\n",
       "<tr>\n",
       "  <th>Link Function:</th>         <td>logit</td>      <th>  Scale:             </th> <td>  1.0000</td>\n",
       "</tr>\n",
       "<tr>\n",
       "  <th>Method:</th>                <td>IRLS</td>       <th>  Log-Likelihood:    </th> <td> -1371.7</td>\n",
       "</tr>\n",
       "<tr>\n",
       "  <th>Date:</th>            <td>Tue, 09 Aug 2022</td> <th>  Deviance:          </th> <td>  2743.5</td>\n",
       "</tr>\n",
       "<tr>\n",
       "  <th>Time:</th>                <td>17:31:12</td>     <th>  Pearson chi2:      </th> <td>1.20e+04</td>\n",
       "</tr>\n",
       "<tr>\n",
       "  <th>No. Iterations:</th>          <td>8</td>        <th>                     </th>     <td> </td>   \n",
       "</tr>\n",
       "<tr>\n",
       "  <th>Covariance Type:</th>     <td>nonrobust</td>    <th>                     </th>     <td> </td>   \n",
       "</tr>\n",
       "</table>\n",
       "<table class=\"simpletable\">\n",
       "<tr>\n",
       "                      <td></td>                        <th>coef</th>     <th>std err</th>      <th>z</th>      <th>P>|z|</th>  <th>[0.025</th>    <th>0.975]</th>  \n",
       "</tr>\n",
       "<tr>\n",
       "  <th>const</th>                                    <td>   -3.1991</td> <td>    0.184</td> <td>  -17.395</td> <td> 0.000</td> <td>   -3.560</td> <td>   -2.839</td>\n",
       "</tr>\n",
       "<tr>\n",
       "  <th>Do Not Email</th>                             <td>   -1.2162</td> <td>    0.247</td> <td>   -4.932</td> <td> 0.000</td> <td>   -1.699</td> <td>   -0.733</td>\n",
       "</tr>\n",
       "<tr>\n",
       "  <th>Lead Source_Welingak Website</th>             <td>    4.4676</td> <td>    0.739</td> <td>    6.044</td> <td> 0.000</td> <td>    3.019</td> <td>    5.916</td>\n",
       "</tr>\n",
       "<tr>\n",
       "  <th>Last Activity_SMS Sent</th>                   <td>    2.1569</td> <td>    0.109</td> <td>   19.769</td> <td> 0.000</td> <td>    1.943</td> <td>    2.371</td>\n",
       "</tr>\n",
       "<tr>\n",
       "  <th>Last Notable Activity_Modified</th>           <td>   -1.8044</td> <td>    0.124</td> <td>  -14.572</td> <td> 0.000</td> <td>   -2.047</td> <td>   -1.562</td>\n",
       "</tr>\n",
       "<tr>\n",
       "  <th>Tags_Busy</th>                                <td>    2.3771</td> <td>    0.281</td> <td>    8.457</td> <td> 0.000</td> <td>    1.826</td> <td>    2.928</td>\n",
       "</tr>\n",
       "<tr>\n",
       "  <th>Tags_Closed by Horizzon</th>                  <td>    9.0513</td> <td>    0.741</td> <td>   12.219</td> <td> 0.000</td> <td>    7.599</td> <td>   10.503</td>\n",
       "</tr>\n",
       "<tr>\n",
       "  <th>Tags_Lost to EINS</th>                        <td>    8.3739</td> <td>    0.748</td> <td>   11.193</td> <td> 0.000</td> <td>    6.908</td> <td>    9.840</td>\n",
       "</tr>\n",
       "<tr>\n",
       "  <th>Tags_Not Given</th>                           <td>    1.9193</td> <td>    0.187</td> <td>   10.267</td> <td> 0.000</td> <td>    1.553</td> <td>    2.286</td>\n",
       "</tr>\n",
       "<tr>\n",
       "  <th>Tags_Ringing</th>                             <td>   -1.6126</td> <td>    0.295</td> <td>   -5.459</td> <td> 0.000</td> <td>   -2.192</td> <td>   -1.034</td>\n",
       "</tr>\n",
       "<tr>\n",
       "  <th>Tags_Will revert after reading the email</th> <td>    6.8806</td> <td>    0.256</td> <td>   26.897</td> <td> 0.000</td> <td>    6.379</td> <td>    7.382</td>\n",
       "</tr>\n",
       "<tr>\n",
       "  <th>Tags_switched off</th>                        <td>   -1.6372</td> <td>    0.547</td> <td>   -2.994</td> <td> 0.003</td> <td>   -2.709</td> <td>   -0.565</td>\n",
       "</tr>\n",
       "</table>"
      ],
      "text/plain": [
       "<class 'statsmodels.iolib.summary.Summary'>\n",
       "\"\"\"\n",
       "                 Generalized Linear Model Regression Results                  \n",
       "==============================================================================\n",
       "Dep. Variable:              Converted   No. Observations:                 6351\n",
       "Model:                            GLM   Df Residuals:                     6339\n",
       "Model Family:                Binomial   Df Model:                           11\n",
       "Link Function:                  logit   Scale:                          1.0000\n",
       "Method:                          IRLS   Log-Likelihood:                -1371.7\n",
       "Date:                Tue, 09 Aug 2022   Deviance:                       2743.5\n",
       "Time:                        17:31:12   Pearson chi2:                 1.20e+04\n",
       "No. Iterations:                     8                                         \n",
       "Covariance Type:            nonrobust                                         \n",
       "============================================================================================================\n",
       "                                               coef    std err          z      P>|z|      [0.025      0.975]\n",
       "------------------------------------------------------------------------------------------------------------\n",
       "const                                       -3.1991      0.184    -17.395      0.000      -3.560      -2.839\n",
       "Do Not Email                                -1.2162      0.247     -4.932      0.000      -1.699      -0.733\n",
       "Lead Source_Welingak Website                 4.4676      0.739      6.044      0.000       3.019       5.916\n",
       "Last Activity_SMS Sent                       2.1569      0.109     19.769      0.000       1.943       2.371\n",
       "Last Notable Activity_Modified              -1.8044      0.124    -14.572      0.000      -2.047      -1.562\n",
       "Tags_Busy                                    2.3771      0.281      8.457      0.000       1.826       2.928\n",
       "Tags_Closed by Horizzon                      9.0513      0.741     12.219      0.000       7.599      10.503\n",
       "Tags_Lost to EINS                            8.3739      0.748     11.193      0.000       6.908       9.840\n",
       "Tags_Not Given                               1.9193      0.187     10.267      0.000       1.553       2.286\n",
       "Tags_Ringing                                -1.6126      0.295     -5.459      0.000      -2.192      -1.034\n",
       "Tags_Will revert after reading the email     6.8806      0.256     26.897      0.000       6.379       7.382\n",
       "Tags_switched off                           -1.6372      0.547     -2.994      0.003      -2.709      -0.565\n",
       "============================================================================================================\n",
       "\"\"\""
      ]
     },
     "execution_count": 71,
     "metadata": {},
     "output_type": "execute_result"
    }
   ],
   "source": [
    "# Building Model 5.\n",
    "\n",
    "X_train_sm = sm.add_constant(X_train[vif_cols])\n",
    "model_5 = sm.GLM(y_train,X_train_sm, family = sm.families.Binomial())\n",
    "res5 = model_5.fit()\n",
    "res5.summary()"
   ]
  },
  {
   "cell_type": "code",
   "execution_count": 72,
   "id": "ee6512a6",
   "metadata": {},
   "outputs": [
    {
     "data": {
      "text/html": [
       "<div>\n",
       "<style scoped>\n",
       "    .dataframe tbody tr th:only-of-type {\n",
       "        vertical-align: middle;\n",
       "    }\n",
       "\n",
       "    .dataframe tbody tr th {\n",
       "        vertical-align: top;\n",
       "    }\n",
       "\n",
       "    .dataframe thead th {\n",
       "        text-align: right;\n",
       "    }\n",
       "</style>\n",
       "<table border=\"1\" class=\"dataframe\">\n",
       "  <thead>\n",
       "    <tr style=\"text-align: right;\">\n",
       "      <th></th>\n",
       "      <th>Features</th>\n",
       "      <th>VIF</th>\n",
       "    </tr>\n",
       "  </thead>\n",
       "  <tbody>\n",
       "    <tr>\n",
       "      <th>2</th>\n",
       "      <td>Last Activity_SMS Sent</td>\n",
       "      <td>1.65</td>\n",
       "    </tr>\n",
       "    <tr>\n",
       "      <th>7</th>\n",
       "      <td>Tags_Not Given</td>\n",
       "      <td>1.42</td>\n",
       "    </tr>\n",
       "    <tr>\n",
       "      <th>3</th>\n",
       "      <td>Last Notable Activity_Modified</td>\n",
       "      <td>1.41</td>\n",
       "    </tr>\n",
       "    <tr>\n",
       "      <th>9</th>\n",
       "      <td>Tags_Will revert after reading the email</td>\n",
       "      <td>1.36</td>\n",
       "    </tr>\n",
       "    <tr>\n",
       "      <th>8</th>\n",
       "      <td>Tags_Ringing</td>\n",
       "      <td>1.13</td>\n",
       "    </tr>\n",
       "    <tr>\n",
       "      <th>0</th>\n",
       "      <td>Do Not Email</td>\n",
       "      <td>1.11</td>\n",
       "    </tr>\n",
       "    <tr>\n",
       "      <th>1</th>\n",
       "      <td>Lead Source_Welingak Website</td>\n",
       "      <td>1.05</td>\n",
       "    </tr>\n",
       "    <tr>\n",
       "      <th>4</th>\n",
       "      <td>Tags_Busy</td>\n",
       "      <td>1.05</td>\n",
       "    </tr>\n",
       "    <tr>\n",
       "      <th>5</th>\n",
       "      <td>Tags_Closed by Horizzon</td>\n",
       "      <td>1.05</td>\n",
       "    </tr>\n",
       "    <tr>\n",
       "      <th>10</th>\n",
       "      <td>Tags_switched off</td>\n",
       "      <td>1.04</td>\n",
       "    </tr>\n",
       "    <tr>\n",
       "      <th>6</th>\n",
       "      <td>Tags_Lost to EINS</td>\n",
       "      <td>1.03</td>\n",
       "    </tr>\n",
       "  </tbody>\n",
       "</table>\n",
       "</div>"
      ],
      "text/plain": [
       "                                    Features   VIF\n",
       "2                     Last Activity_SMS Sent  1.65\n",
       "7                             Tags_Not Given  1.42\n",
       "3             Last Notable Activity_Modified  1.41\n",
       "9   Tags_Will revert after reading the email  1.36\n",
       "8                               Tags_Ringing  1.13\n",
       "0                               Do Not Email  1.11\n",
       "1               Lead Source_Welingak Website  1.05\n",
       "4                                  Tags_Busy  1.05\n",
       "5                    Tags_Closed by Horizzon  1.05\n",
       "10                         Tags_switched off  1.04\n",
       "6                          Tags_Lost to EINS  1.03"
      ]
     },
     "execution_count": 72,
     "metadata": {},
     "output_type": "execute_result"
    }
   ],
   "source": [
    "vif1 = pd.DataFrame()\n",
    "X = X_train[vif_cols]\n",
    "vif1['Features'] = X.columns\n",
    "vif1['VIF'] = [variance_inflation_factor(X.values, i) for i in range(X.shape[1])]\n",
    "vif1['VIF'] = round(vif1['VIF'], 2)\n",
    "vif1 = vif1.sort_values(by = \"VIF\", ascending = False)\n",
    "vif1"
   ]
  },
  {
   "cell_type": "markdown",
   "id": "3350cd7c",
   "metadata": {},
   "source": [
    "- Now all features VIF are very less and p-values are 0.\n",
    "- Model 5 can be considered as our final model"
   ]
  },
  {
   "cell_type": "markdown",
   "id": "96fa8c05",
   "metadata": {},
   "source": [
    "### Prediction on train set: X_train_sm"
   ]
  },
  {
   "cell_type": "code",
   "execution_count": 73,
   "id": "2a34e50d",
   "metadata": {},
   "outputs": [],
   "source": [
    "y_train_pred = res5.predict(X_train_sm).values.reshape(-1)"
   ]
  },
  {
   "cell_type": "code",
   "execution_count": 74,
   "id": "39392a82",
   "metadata": {},
   "outputs": [
    {
     "data": {
      "text/html": [
       "<div>\n",
       "<style scoped>\n",
       "    .dataframe tbody tr th:only-of-type {\n",
       "        vertical-align: middle;\n",
       "    }\n",
       "\n",
       "    .dataframe tbody tr th {\n",
       "        vertical-align: top;\n",
       "    }\n",
       "\n",
       "    .dataframe thead th {\n",
       "        text-align: right;\n",
       "    }\n",
       "</style>\n",
       "<table border=\"1\" class=\"dataframe\">\n",
       "  <thead>\n",
       "    <tr style=\"text-align: right;\">\n",
       "      <th></th>\n",
       "      <th>Converted</th>\n",
       "      <th>Converted_pred</th>\n",
       "      <th>Prospect ID</th>\n",
       "    </tr>\n",
       "  </thead>\n",
       "  <tbody>\n",
       "    <tr>\n",
       "      <th>0</th>\n",
       "      <td>0</td>\n",
       "      <td>0.217580</td>\n",
       "      <td>3009</td>\n",
       "    </tr>\n",
       "    <tr>\n",
       "      <th>1</th>\n",
       "      <td>0</td>\n",
       "      <td>0.076139</td>\n",
       "      <td>1012</td>\n",
       "    </tr>\n",
       "    <tr>\n",
       "      <th>2</th>\n",
       "      <td>0</td>\n",
       "      <td>0.011439</td>\n",
       "      <td>9226</td>\n",
       "    </tr>\n",
       "    <tr>\n",
       "      <th>3</th>\n",
       "      <td>1</td>\n",
       "      <td>0.706213</td>\n",
       "      <td>4750</td>\n",
       "    </tr>\n",
       "    <tr>\n",
       "      <th>4</th>\n",
       "      <td>1</td>\n",
       "      <td>0.996039</td>\n",
       "      <td>7987</td>\n",
       "    </tr>\n",
       "  </tbody>\n",
       "</table>\n",
       "</div>"
      ],
      "text/plain": [
       "   Converted  Converted_pred  Prospect ID\n",
       "0          0        0.217580         3009\n",
       "1          0        0.076139         1012\n",
       "2          0        0.011439         9226\n",
       "3          1        0.706213         4750\n",
       "4          1        0.996039         7987"
      ]
     },
     "execution_count": 74,
     "metadata": {},
     "output_type": "execute_result"
    }
   ],
   "source": [
    "# Creating y_train_pred_final df.\n",
    "\n",
    "y_train_pred_final = pd.DataFrame()\n",
    "y_train_pred_final['Converted'] = y_train.values\n",
    "y_train_pred_final['Converted_pred'] = y_train_pred\n",
    "y_train_pred_final['Prospect ID'] = y_train.index\n",
    "y_train_pred_final.head()"
   ]
  },
  {
   "cell_type": "code",
   "execution_count": 75,
   "id": "164432b3",
   "metadata": {},
   "outputs": [
    {
     "data": {
      "text/html": [
       "<div>\n",
       "<style scoped>\n",
       "    .dataframe tbody tr th:only-of-type {\n",
       "        vertical-align: middle;\n",
       "    }\n",
       "\n",
       "    .dataframe tbody tr th {\n",
       "        vertical-align: top;\n",
       "    }\n",
       "\n",
       "    .dataframe thead th {\n",
       "        text-align: right;\n",
       "    }\n",
       "</style>\n",
       "<table border=\"1\" class=\"dataframe\">\n",
       "  <thead>\n",
       "    <tr style=\"text-align: right;\">\n",
       "      <th></th>\n",
       "      <th>Converted</th>\n",
       "      <th>Converted_pred</th>\n",
       "      <th>Prospect ID</th>\n",
       "      <th>Predicted</th>\n",
       "    </tr>\n",
       "  </thead>\n",
       "  <tbody>\n",
       "    <tr>\n",
       "      <th>0</th>\n",
       "      <td>0</td>\n",
       "      <td>0.217580</td>\n",
       "      <td>3009</td>\n",
       "      <td>0</td>\n",
       "    </tr>\n",
       "    <tr>\n",
       "      <th>1</th>\n",
       "      <td>0</td>\n",
       "      <td>0.076139</td>\n",
       "      <td>1012</td>\n",
       "      <td>0</td>\n",
       "    </tr>\n",
       "    <tr>\n",
       "      <th>2</th>\n",
       "      <td>0</td>\n",
       "      <td>0.011439</td>\n",
       "      <td>9226</td>\n",
       "      <td>0</td>\n",
       "    </tr>\n",
       "    <tr>\n",
       "      <th>3</th>\n",
       "      <td>1</td>\n",
       "      <td>0.706213</td>\n",
       "      <td>4750</td>\n",
       "      <td>1</td>\n",
       "    </tr>\n",
       "    <tr>\n",
       "      <th>4</th>\n",
       "      <td>1</td>\n",
       "      <td>0.996039</td>\n",
       "      <td>7987</td>\n",
       "      <td>1</td>\n",
       "    </tr>\n",
       "  </tbody>\n",
       "</table>\n",
       "</div>"
      ],
      "text/plain": [
       "   Converted  Converted_pred  Prospect ID  Predicted\n",
       "0          0        0.217580         3009          0\n",
       "1          0        0.076139         1012          0\n",
       "2          0        0.011439         9226          0\n",
       "3          1        0.706213         4750          1\n",
       "4          1        0.996039         7987          1"
      ]
     },
     "execution_count": 75,
     "metadata": {},
     "output_type": "execute_result"
    }
   ],
   "source": [
    "# Creating new column 'Predicted' with 1 if Converted_prob > 0.5 else 0.\n",
    "\n",
    "y_train_pred_final['Predicted'] = y_train_pred_final.Converted_pred.map(lambda x: 1 if x > 0.5 else 0)\n",
    "y_train_pred_final.head()"
   ]
  },
  {
   "cell_type": "markdown",
   "id": "dcaf2115",
   "metadata": {},
   "source": [
    "### ROC Curve"
   ]
  },
  {
   "cell_type": "code",
   "execution_count": 76,
   "id": "daba696f",
   "metadata": {},
   "outputs": [],
   "source": [
    "from sklearn import metrics"
   ]
  },
  {
   "cell_type": "code",
   "execution_count": 77,
   "id": "e408d9ec",
   "metadata": {},
   "outputs": [
    {
     "data": {
      "image/png": "[encoded data removed]",
      "text/plain": [
       "<Figure size 360x360 with 1 Axes>"
      ]
     },
     "metadata": {
      "needs_background": "light"
     },
     "output_type": "display_data"
    }
   ],
   "source": [
    "# Defining the function to plot the ROC curve\n",
    "def draw_roc( actual, probs ):\n",
    "    fpr, tpr, thresholds = metrics.roc_curve( actual, probs,\n",
    "                                              drop_intermediate = False )\n",
    "    auc_score = metrics.roc_auc_score( actual, probs )\n",
    "    plt.figure(figsize=(5, 5))\n",
    "    plt.plot( fpr, tpr, label='ROC curve (area = %0.2f)' % auc_score )\n",
    "    plt.plot([0, 1], [0, 1], 'k--')\n",
    "    plt.xlim([0.0, 1.0])\n",
    "    plt.ylim([0.0, 1.05])\n",
    "    plt.xlabel('False Positive Rate or [1 - True Negative Rate]')\n",
    "    plt.ylabel('True Positive Rate')\n",
    "    plt.title('Receiver operating characteristic example')\n",
    "    plt.legend(loc=\"lower right\")\n",
    "    plt.show()\n",
    "\n",
    "    return None\n",
    "\n",
    "# Calling the function\n",
    "draw_roc(y_train_pred_final['Converted'], y_train_pred_final['Converted_pred'])"
   ]
  },
  {
   "cell_type": "markdown",
   "id": "a91c380f",
   "metadata": {},
   "source": [
    "- Higher the area under the ROC curve the better is your model. The value of ROC curve should be closer to 1, we have the area under ROC curve = 0.96."
   ]
  },
  {
   "cell_type": "markdown",
   "id": "c1acc9bd",
   "metadata": {},
   "source": [
    "### Finding optimal cut off point"
   ]
  },
  {
   "cell_type": "code",
   "execution_count": 78,
   "id": "ded5abe7",
   "metadata": {},
   "outputs": [
    {
     "data": {
      "text/html": [
       "<div>\n",
       "<style scoped>\n",
       "    .dataframe tbody tr th:only-of-type {\n",
       "        vertical-align: middle;\n",
       "    }\n",
       "\n",
       "    .dataframe tbody tr th {\n",
       "        vertical-align: top;\n",
       "    }\n",
       "\n",
       "    .dataframe thead th {\n",
       "        text-align: right;\n",
       "    }\n",
       "</style>\n",
       "<table border=\"1\" class=\"dataframe\">\n",
       "  <thead>\n",
       "    <tr style=\"text-align: right;\">\n",
       "      <th></th>\n",
       "      <th>Converted</th>\n",
       "      <th>Converted_pred</th>\n",
       "      <th>Prospect ID</th>\n",
       "      <th>Predicted</th>\n",
       "      <th>0.0</th>\n",
       "      <th>0.1</th>\n",
       "      <th>0.2</th>\n",
       "      <th>0.3</th>\n",
       "      <th>0.4</th>\n",
       "      <th>0.5</th>\n",
       "      <th>0.6</th>\n",
       "      <th>0.7</th>\n",
       "      <th>0.8</th>\n",
       "      <th>0.9</th>\n",
       "    </tr>\n",
       "  </thead>\n",
       "  <tbody>\n",
       "    <tr>\n",
       "      <th>0</th>\n",
       "      <td>0</td>\n",
       "      <td>0.217580</td>\n",
       "      <td>3009</td>\n",
       "      <td>0</td>\n",
       "      <td>1</td>\n",
       "      <td>1</td>\n",
       "      <td>1</td>\n",
       "      <td>0</td>\n",
       "      <td>0</td>\n",
       "      <td>0</td>\n",
       "      <td>0</td>\n",
       "      <td>0</td>\n",
       "      <td>0</td>\n",
       "      <td>0</td>\n",
       "    </tr>\n",
       "    <tr>\n",
       "      <th>1</th>\n",
       "      <td>0</td>\n",
       "      <td>0.076139</td>\n",
       "      <td>1012</td>\n",
       "      <td>0</td>\n",
       "      <td>1</td>\n",
       "      <td>0</td>\n",
       "      <td>0</td>\n",
       "      <td>0</td>\n",
       "      <td>0</td>\n",
       "      <td>0</td>\n",
       "      <td>0</td>\n",
       "      <td>0</td>\n",
       "      <td>0</td>\n",
       "      <td>0</td>\n",
       "    </tr>\n",
       "    <tr>\n",
       "      <th>2</th>\n",
       "      <td>0</td>\n",
       "      <td>0.011439</td>\n",
       "      <td>9226</td>\n",
       "      <td>0</td>\n",
       "      <td>1</td>\n",
       "      <td>0</td>\n",
       "      <td>0</td>\n",
       "      <td>0</td>\n",
       "      <td>0</td>\n",
       "      <td>0</td>\n",
       "      <td>0</td>\n",
       "      <td>0</td>\n",
       "      <td>0</td>\n",
       "      <td>0</td>\n",
       "    </tr>\n",
       "    <tr>\n",
       "      <th>3</th>\n",
       "      <td>1</td>\n",
       "      <td>0.706213</td>\n",
       "      <td>4750</td>\n",
       "      <td>1</td>\n",
       "      <td>1</td>\n",
       "      <td>1</td>\n",
       "      <td>1</td>\n",
       "      <td>1</td>\n",
       "      <td>1</td>\n",
       "      <td>1</td>\n",
       "      <td>1</td>\n",
       "      <td>1</td>\n",
       "      <td>0</td>\n",
       "      <td>0</td>\n",
       "    </tr>\n",
       "    <tr>\n",
       "      <th>4</th>\n",
       "      <td>1</td>\n",
       "      <td>0.996039</td>\n",
       "      <td>7987</td>\n",
       "      <td>1</td>\n",
       "      <td>1</td>\n",
       "      <td>1</td>\n",
       "      <td>1</td>\n",
       "      <td>1</td>\n",
       "      <td>1</td>\n",
       "      <td>1</td>\n",
       "      <td>1</td>\n",
       "      <td>1</td>\n",
       "      <td>1</td>\n",
       "      <td>1</td>\n",
       "    </tr>\n",
       "  </tbody>\n",
       "</table>\n",
       "</div>"
      ],
      "text/plain": [
       "   Converted  Converted_pred  Prospect ID  Predicted  0.0  0.1  0.2  0.3  0.4  \\\n",
       "0          0        0.217580         3009          0    1    1    1    0    0   \n",
       "1          0        0.076139         1012          0    1    0    0    0    0   \n",
       "2          0        0.011439         9226          0    1    0    0    0    0   \n",
       "3          1        0.706213         4750          1    1    1    1    1    1   \n",
       "4          1        0.996039         7987          1    1    1    1    1    1   \n",
       "\n",
       "   0.5  0.6  0.7  0.8  0.9  \n",
       "0    0    0    0    0    0  \n",
       "1    0    0    0    0    0  \n",
       "2    0    0    0    0    0  \n",
       "3    1    1    1    0    0  \n",
       "4    1    1    1    1    1  "
      ]
     },
     "execution_count": 78,
     "metadata": {},
     "output_type": "execute_result"
    }
   ],
   "source": [
    "# Creating columns with different probability cutoffs. \n",
    "\n",
    "Numbers = [float(x)/10 for x in range(10)]\n",
    "for i in Numbers:\n",
    "    y_train_pred_final[i]= y_train_pred_final.Converted_pred.map(lambda x: 1 if x > i else 0)\n",
    "y_train_pred_final.head()"
   ]
  },
  {
   "cell_type": "code",
   "execution_count": 79,
   "id": "2a2523da",
   "metadata": {},
   "outputs": [
    {
     "name": "stdout",
     "output_type": "stream",
     "text": [
      "     prob  accuracy     sensi     speci\n",
      "0.0   0.0  0.385136  1.000000  0.000000\n",
      "0.1   0.1  0.819399  0.963205  0.729321\n",
      "0.2   0.2  0.823020  0.962796  0.735467\n",
      "0.3   0.3  0.924264  0.872854  0.956466\n",
      "0.4   0.4  0.925681  0.865904  0.963124\n",
      "0.5   0.5  0.925838  0.862633  0.965429\n",
      "0.6   0.6  0.925681  0.861815  0.965685\n",
      "0.7   0.7  0.925838  0.861815  0.965941\n",
      "0.8   0.8  0.892773  0.737939  0.989757\n",
      "0.9   0.9  0.876083  0.689289  0.993086\n"
     ]
    }
   ],
   "source": [
    "# Calculating accuracy, sensitivity and specificity for various probability cutoffs.\n",
    "\n",
    "cutoff_data = pd.DataFrame(columns = [\"prob\",\"accuracy\",\"sensi\",\"speci\"])\n",
    "from sklearn.metrics import confusion_matrix\n",
    "\n",
    "Num = [0.0,0.1,0.2,0.3,0.4,0.5,0.6,0.7,0.8,0.9]\n",
    "for i in Num:\n",
    "    CM_1 = metrics.confusion_matrix(y_train_pred_final.Converted, y_train_pred_final[i] )\n",
    "    total1=sum(sum(CM_1))\n",
    "    accuracy = (CM_1[0,0]+CM_1[1,1])/total1\n",
    "    \n",
    "    speci = CM_1[0,0]/(CM_1[0,0]+CM_1[0,1])\n",
    "    sensi = CM_1[1,1]/(CM_1[1,0]+CM_1[1,1])\n",
    "    cutoff_data.loc[i] =[i ,accuracy,sensi,speci]\n",
    "print(cutoff_data)"
   ]
  },
  {
   "cell_type": "code",
   "execution_count": 80,
   "id": "c0d101e8",
   "metadata": {},
   "outputs": [
    {
     "data": {
      "image/png": "[encoded data removed]",
      "text/plain": [
       "<Figure size 432x288 with 1 Axes>"
      ]
     },
     "metadata": {
      "needs_background": "light"
     },
     "output_type": "display_data"
    }
   ],
   "source": [
    "# Plotting accuracy, sensitivity and specificity for various probabilities.\n",
    "\n",
    "cutoff_data.plot.line(x='prob', y=['accuracy','sensi','speci'])\n",
    "plt.show()"
   ]
  },
  {
   "cell_type": "markdown",
   "id": "e6a4e42d",
   "metadata": {},
   "source": [
    "- The optimal cut-off is around 0.3"
   ]
  },
  {
   "cell_type": "code",
   "execution_count": 99,
   "id": "4ab1204a",
   "metadata": {},
   "outputs": [
    {
     "data": {
      "text/html": [
       "<div>\n",
       "<style scoped>\n",
       "    .dataframe tbody tr th:only-of-type {\n",
       "        vertical-align: middle;\n",
       "    }\n",
       "\n",
       "    .dataframe tbody tr th {\n",
       "        vertical-align: top;\n",
       "    }\n",
       "\n",
       "    .dataframe thead th {\n",
       "        text-align: right;\n",
       "    }\n",
       "</style>\n",
       "<table border=\"1\" class=\"dataframe\">\n",
       "  <thead>\n",
       "    <tr style=\"text-align: right;\">\n",
       "      <th></th>\n",
       "      <th>Converted</th>\n",
       "      <th>Converted_pred</th>\n",
       "      <th>Prospect ID</th>\n",
       "      <th>Predicted</th>\n",
       "      <th>0.0</th>\n",
       "      <th>0.1</th>\n",
       "      <th>0.2</th>\n",
       "      <th>0.3</th>\n",
       "      <th>0.4</th>\n",
       "      <th>0.5</th>\n",
       "      <th>0.6</th>\n",
       "      <th>0.7</th>\n",
       "      <th>0.8</th>\n",
       "      <th>0.9</th>\n",
       "      <th>final_predicted</th>\n",
       "      <th>Lead Score</th>\n",
       "    </tr>\n",
       "  </thead>\n",
       "  <tbody>\n",
       "    <tr>\n",
       "      <th>0</th>\n",
       "      <td>0</td>\n",
       "      <td>0.217580</td>\n",
       "      <td>3009</td>\n",
       "      <td>0</td>\n",
       "      <td>1</td>\n",
       "      <td>1</td>\n",
       "      <td>1</td>\n",
       "      <td>0</td>\n",
       "      <td>0</td>\n",
       "      <td>0</td>\n",
       "      <td>0</td>\n",
       "      <td>0</td>\n",
       "      <td>0</td>\n",
       "      <td>0</td>\n",
       "      <td>0</td>\n",
       "      <td>22</td>\n",
       "    </tr>\n",
       "    <tr>\n",
       "      <th>1</th>\n",
       "      <td>0</td>\n",
       "      <td>0.076139</td>\n",
       "      <td>1012</td>\n",
       "      <td>0</td>\n",
       "      <td>1</td>\n",
       "      <td>0</td>\n",
       "      <td>0</td>\n",
       "      <td>0</td>\n",
       "      <td>0</td>\n",
       "      <td>0</td>\n",
       "      <td>0</td>\n",
       "      <td>0</td>\n",
       "      <td>0</td>\n",
       "      <td>0</td>\n",
       "      <td>0</td>\n",
       "      <td>8</td>\n",
       "    </tr>\n",
       "    <tr>\n",
       "      <th>2</th>\n",
       "      <td>0</td>\n",
       "      <td>0.011439</td>\n",
       "      <td>9226</td>\n",
       "      <td>0</td>\n",
       "      <td>1</td>\n",
       "      <td>0</td>\n",
       "      <td>0</td>\n",
       "      <td>0</td>\n",
       "      <td>0</td>\n",
       "      <td>0</td>\n",
       "      <td>0</td>\n",
       "      <td>0</td>\n",
       "      <td>0</td>\n",
       "      <td>0</td>\n",
       "      <td>0</td>\n",
       "      <td>1</td>\n",
       "    </tr>\n",
       "    <tr>\n",
       "      <th>3</th>\n",
       "      <td>1</td>\n",
       "      <td>0.706213</td>\n",
       "      <td>4750</td>\n",
       "      <td>1</td>\n",
       "      <td>1</td>\n",
       "      <td>1</td>\n",
       "      <td>1</td>\n",
       "      <td>1</td>\n",
       "      <td>1</td>\n",
       "      <td>1</td>\n",
       "      <td>1</td>\n",
       "      <td>1</td>\n",
       "      <td>0</td>\n",
       "      <td>0</td>\n",
       "      <td>1</td>\n",
       "      <td>71</td>\n",
       "    </tr>\n",
       "    <tr>\n",
       "      <th>4</th>\n",
       "      <td>1</td>\n",
       "      <td>0.996039</td>\n",
       "      <td>7987</td>\n",
       "      <td>1</td>\n",
       "      <td>1</td>\n",
       "      <td>1</td>\n",
       "      <td>1</td>\n",
       "      <td>1</td>\n",
       "      <td>1</td>\n",
       "      <td>1</td>\n",
       "      <td>1</td>\n",
       "      <td>1</td>\n",
       "      <td>1</td>\n",
       "      <td>1</td>\n",
       "      <td>1</td>\n",
       "      <td>100</td>\n",
       "    </tr>\n",
       "  </tbody>\n",
       "</table>\n",
       "</div>"
      ],
      "text/plain": [
       "   Converted  Converted_pred  Prospect ID  Predicted  0.0  0.1  0.2  0.3  0.4  \\\n",
       "0          0        0.217580         3009          0    1    1    1    0    0   \n",
       "1          0        0.076139         1012          0    1    0    0    0    0   \n",
       "2          0        0.011439         9226          0    1    0    0    0    0   \n",
       "3          1        0.706213         4750          1    1    1    1    1    1   \n",
       "4          1        0.996039         7987          1    1    1    1    1    1   \n",
       "\n",
       "   0.5  0.6  0.7  0.8  0.9  final_predicted  Lead Score  \n",
       "0    0    0    0    0    0                0          22  \n",
       "1    0    0    0    0    0                0           8  \n",
       "2    0    0    0    0    0                0           1  \n",
       "3    1    1    1    0    0                1          71  \n",
       "4    1    1    1    1    1                1         100  "
      ]
     },
     "execution_count": 99,
     "metadata": {},
     "output_type": "execute_result"
    }
   ],
   "source": [
    "# Creating final_predicted column with 0.3 cutoff point.\n",
    "\n",
    "y_train_pred_final['final_predicted'] = y_train_pred_final.Converted_pred.map(lambda x: 1 if x > 0.3 else 0)\n",
    "y_train_pred_final.head()"
   ]
  },
  {
   "cell_type": "code",
   "execution_count": 82,
   "id": "97d98a6a",
   "metadata": {},
   "outputs": [
    {
     "data": {
      "text/html": [
       "<div>\n",
       "<style scoped>\n",
       "    .dataframe tbody tr th:only-of-type {\n",
       "        vertical-align: middle;\n",
       "    }\n",
       "\n",
       "    .dataframe tbody tr th {\n",
       "        vertical-align: top;\n",
       "    }\n",
       "\n",
       "    .dataframe thead th {\n",
       "        text-align: right;\n",
       "    }\n",
       "</style>\n",
       "<table border=\"1\" class=\"dataframe\">\n",
       "  <thead>\n",
       "    <tr style=\"text-align: right;\">\n",
       "      <th></th>\n",
       "      <th>Converted</th>\n",
       "      <th>Converted_pred</th>\n",
       "      <th>Prospect ID</th>\n",
       "      <th>final_predicted</th>\n",
       "      <th>Lead Score</th>\n",
       "    </tr>\n",
       "  </thead>\n",
       "  <tbody>\n",
       "    <tr>\n",
       "      <th>0</th>\n",
       "      <td>0</td>\n",
       "      <td>0.217580</td>\n",
       "      <td>3009</td>\n",
       "      <td>0</td>\n",
       "      <td>22</td>\n",
       "    </tr>\n",
       "    <tr>\n",
       "      <th>1</th>\n",
       "      <td>0</td>\n",
       "      <td>0.076139</td>\n",
       "      <td>1012</td>\n",
       "      <td>0</td>\n",
       "      <td>8</td>\n",
       "    </tr>\n",
       "    <tr>\n",
       "      <th>2</th>\n",
       "      <td>0</td>\n",
       "      <td>0.011439</td>\n",
       "      <td>9226</td>\n",
       "      <td>0</td>\n",
       "      <td>1</td>\n",
       "    </tr>\n",
       "    <tr>\n",
       "      <th>3</th>\n",
       "      <td>1</td>\n",
       "      <td>0.706213</td>\n",
       "      <td>4750</td>\n",
       "      <td>1</td>\n",
       "      <td>71</td>\n",
       "    </tr>\n",
       "    <tr>\n",
       "      <th>4</th>\n",
       "      <td>1</td>\n",
       "      <td>0.996039</td>\n",
       "      <td>7987</td>\n",
       "      <td>1</td>\n",
       "      <td>100</td>\n",
       "    </tr>\n",
       "  </tbody>\n",
       "</table>\n",
       "</div>"
      ],
      "text/plain": [
       "   Converted  Converted_pred  Prospect ID  final_predicted  Lead Score\n",
       "0          0        0.217580         3009                0          22\n",
       "1          0        0.076139         1012                0           8\n",
       "2          0        0.011439         9226                0           1\n",
       "3          1        0.706213         4750                1          71\n",
       "4          1        0.996039         7987                1         100"
      ]
     },
     "execution_count": 82,
     "metadata": {},
     "output_type": "execute_result"
    }
   ],
   "source": [
    "# Assigning Score to leads.\n",
    "\n",
    "y_train_pred_final[\"Lead Score\"] = y_train_pred_final.Converted_pred.map(lambda x: round(x*100))\n",
    "y_train_pred_final[[\"Converted\",\"Converted_pred\",\"Prospect ID\",\"final_predicted\",\"Lead Score\"]].head()"
   ]
  },
  {
   "cell_type": "markdown",
   "id": "6f576c23",
   "metadata": {},
   "source": [
    "### Metrics Evaluation"
   ]
  },
  {
   "cell_type": "code",
   "execution_count": 83,
   "id": "91eca150",
   "metadata": {},
   "outputs": [
    {
     "data": {
      "text/plain": [
       "0.9242638954495355"
      ]
     },
     "execution_count": 83,
     "metadata": {},
     "output_type": "execute_result"
    }
   ],
   "source": [
    "# Let's check the overall accuracy.\n",
    "\n",
    "metrics.accuracy_score(y_train_pred_final.Converted, y_train_pred_final.final_predicted)"
   ]
  },
  {
   "cell_type": "code",
   "execution_count": 84,
   "id": "3d9d9008",
   "metadata": {},
   "outputs": [
    {
     "data": {
      "text/plain": [
       "array([[3735,  170],\n",
       "       [ 311, 2135]], dtype=int64)"
      ]
     },
     "execution_count": 84,
     "metadata": {},
     "output_type": "execute_result"
    }
   ],
   "source": [
    "# Creating Confusion matrix 2.\n",
    "\n",
    "confusion_1 = metrics.confusion_matrix(y_train_pred_final.Converted, y_train_pred_final.final_predicted )\n",
    "confusion_1"
   ]
  },
  {
   "cell_type": "code",
   "execution_count": 85,
   "id": "cd7287de",
   "metadata": {},
   "outputs": [],
   "source": [
    "# Creating TP, TN, FP, FN.\n",
    "\n",
    "TP = confusion_1[1,1]\n",
    "TN = confusion_1[0,0]\n",
    "FP = confusion_1[0,1]\n",
    "FN = confusion_1[1,0]"
   ]
  },
  {
   "cell_type": "code",
   "execution_count": 86,
   "id": "608b3e5f",
   "metadata": {},
   "outputs": [
    {
     "data": {
      "text/plain": [
       "0.8728536385936222"
      ]
     },
     "execution_count": 86,
     "metadata": {},
     "output_type": "execute_result"
    }
   ],
   "source": [
    "# Let's check the sensitivity.\n",
    "\n",
    "TP / float(TP+FN)"
   ]
  },
  {
   "cell_type": "code",
   "execution_count": 87,
   "id": "28eaded6",
   "metadata": {},
   "outputs": [
    {
     "data": {
      "text/plain": [
       "0.9564660691421255"
      ]
     },
     "execution_count": 87,
     "metadata": {},
     "output_type": "execute_result"
    }
   ],
   "source": [
    "# Let's check the specificity.\n",
    "\n",
    "TN / float(TN+FP)"
   ]
  },
  {
   "cell_type": "code",
   "execution_count": 88,
   "id": "e97eb9cf",
   "metadata": {},
   "outputs": [
    {
     "name": "stdout",
     "output_type": "stream",
     "text": [
      "0.04353393085787452\n"
     ]
    }
   ],
   "source": [
    "# Let's check the False Positive Rate - predicting customer as converted lead when the customer has not actually converted.\n",
    "\n",
    "print(FP/ float(TN+FP))"
   ]
  },
  {
   "cell_type": "markdown",
   "id": "867eb3c0",
   "metadata": {},
   "source": [
    "- From the Final Model (Model 5) we built we have the following observation values:\n",
    "    - Accuracy : 92%\n",
    "    - Sensitivity : 87%\n",
    "    - Specificity : 95%\n",
    "- These values show that the model is performing very well."
   ]
  },
  {
   "cell_type": "markdown",
   "id": "2381f6a5",
   "metadata": {},
   "source": [
    "### Precision and Recall Score"
   ]
  },
  {
   "cell_type": "code",
   "execution_count": 89,
   "id": "1f978677",
   "metadata": {},
   "outputs": [],
   "source": [
    "# Importing Libraries.\n",
    "\n",
    "from sklearn.metrics import precision_score, recall_score"
   ]
  },
  {
   "cell_type": "code",
   "execution_count": 90,
   "id": "ac3a14db",
   "metadata": {},
   "outputs": [
    {
     "data": {
      "text/plain": [
       "0.9262472885032538"
      ]
     },
     "execution_count": 90,
     "metadata": {},
     "output_type": "execute_result"
    }
   ],
   "source": [
    "# Precision Score.\n",
    "\n",
    "precision_score(y_train_pred_final.Converted, y_train_pred_final.final_predicted)"
   ]
  },
  {
   "cell_type": "code",
   "execution_count": 91,
   "id": "7d8a2aa7",
   "metadata": {},
   "outputs": [
    {
     "data": {
      "text/plain": [
       "0.8728536385936222"
      ]
     },
     "execution_count": 91,
     "metadata": {},
     "output_type": "execute_result"
    }
   ],
   "source": [
    "# Recall Score.\n",
    "\n",
    "recall_score(y_train_pred_final.Converted, y_train_pred_final.final_predicted)"
   ]
  },
  {
   "cell_type": "markdown",
   "id": "c7470e39",
   "metadata": {},
   "source": [
    "### Precision and Recall Tradeoff."
   ]
  },
  {
   "cell_type": "code",
   "execution_count": 92,
   "id": "2bc077c7",
   "metadata": {},
   "outputs": [],
   "source": [
    "# Importing Libraries.\n",
    "\n",
    "from sklearn.metrics import precision_recall_curve"
   ]
  },
  {
   "cell_type": "code",
   "execution_count": 93,
   "id": "5be11a23",
   "metadata": {},
   "outputs": [],
   "source": [
    "p, r, thresholds = precision_recall_curve(y_train_pred_final.Converted, y_train_pred_final.Converted_pred)"
   ]
  },
  {
   "cell_type": "code",
   "execution_count": 94,
   "id": "b5cf6f8c",
   "metadata": {},
   "outputs": [
    {
     "data": {
      "image/png": "[encoded data removed]",
      "text/plain": [
       "<Figure size 432x288 with 1 Axes>"
      ]
     },
     "metadata": {
      "needs_background": "light"
     },
     "output_type": "display_data"
    }
   ],
   "source": [
    "# Plotting the curve.\n",
    "\n",
    "plt.plot(thresholds, p[:-1], \"g-\")\n",
    "plt.plot(thresholds, r[:-1], \"r-\")\n",
    "plt.show()"
   ]
  },
  {
   "cell_type": "markdown",
   "id": "8e13af8d",
   "metadata": {},
   "source": [
    "### Predicting on test set: X_test"
   ]
  },
  {
   "cell_type": "code",
   "execution_count": 95,
   "id": "d86a4c90",
   "metadata": {},
   "outputs": [
    {
     "data": {
      "text/html": [
       "<div>\n",
       "<style scoped>\n",
       "    .dataframe tbody tr th:only-of-type {\n",
       "        vertical-align: middle;\n",
       "    }\n",
       "\n",
       "    .dataframe tbody tr th {\n",
       "        vertical-align: top;\n",
       "    }\n",
       "\n",
       "    .dataframe thead th {\n",
       "        text-align: right;\n",
       "    }\n",
       "</style>\n",
       "<table border=\"1\" class=\"dataframe\">\n",
       "  <thead>\n",
       "    <tr style=\"text-align: right;\">\n",
       "      <th></th>\n",
       "      <th>Do Not Email</th>\n",
       "      <th>Lead Source_Welingak Website</th>\n",
       "      <th>Last Activity_SMS Sent</th>\n",
       "      <th>Last Notable Activity_Modified</th>\n",
       "      <th>Tags_Busy</th>\n",
       "      <th>Tags_Closed by Horizzon</th>\n",
       "      <th>Tags_Lost to EINS</th>\n",
       "      <th>Tags_Not Given</th>\n",
       "      <th>Tags_Ringing</th>\n",
       "      <th>Tags_Will revert after reading the email</th>\n",
       "      <th>Tags_switched off</th>\n",
       "    </tr>\n",
       "  </thead>\n",
       "  <tbody>\n",
       "    <tr>\n",
       "      <th>3271</th>\n",
       "      <td>0</td>\n",
       "      <td>0</td>\n",
       "      <td>0</td>\n",
       "      <td>0</td>\n",
       "      <td>0</td>\n",
       "      <td>0</td>\n",
       "      <td>0</td>\n",
       "      <td>1</td>\n",
       "      <td>0</td>\n",
       "      <td>0</td>\n",
       "      <td>0</td>\n",
       "    </tr>\n",
       "    <tr>\n",
       "      <th>1490</th>\n",
       "      <td>0</td>\n",
       "      <td>0</td>\n",
       "      <td>0</td>\n",
       "      <td>0</td>\n",
       "      <td>0</td>\n",
       "      <td>0</td>\n",
       "      <td>0</td>\n",
       "      <td>0</td>\n",
       "      <td>0</td>\n",
       "      <td>1</td>\n",
       "      <td>0</td>\n",
       "    </tr>\n",
       "    <tr>\n",
       "      <th>7936</th>\n",
       "      <td>0</td>\n",
       "      <td>0</td>\n",
       "      <td>0</td>\n",
       "      <td>0</td>\n",
       "      <td>0</td>\n",
       "      <td>0</td>\n",
       "      <td>0</td>\n",
       "      <td>1</td>\n",
       "      <td>0</td>\n",
       "      <td>0</td>\n",
       "      <td>0</td>\n",
       "    </tr>\n",
       "    <tr>\n",
       "      <th>4216</th>\n",
       "      <td>0</td>\n",
       "      <td>0</td>\n",
       "      <td>0</td>\n",
       "      <td>1</td>\n",
       "      <td>0</td>\n",
       "      <td>1</td>\n",
       "      <td>0</td>\n",
       "      <td>0</td>\n",
       "      <td>0</td>\n",
       "      <td>0</td>\n",
       "      <td>0</td>\n",
       "    </tr>\n",
       "    <tr>\n",
       "      <th>3830</th>\n",
       "      <td>0</td>\n",
       "      <td>0</td>\n",
       "      <td>0</td>\n",
       "      <td>0</td>\n",
       "      <td>0</td>\n",
       "      <td>0</td>\n",
       "      <td>0</td>\n",
       "      <td>1</td>\n",
       "      <td>0</td>\n",
       "      <td>0</td>\n",
       "      <td>0</td>\n",
       "    </tr>\n",
       "  </tbody>\n",
       "</table>\n",
       "</div>"
      ],
      "text/plain": [
       "      Do Not Email  Lead Source_Welingak Website  Last Activity_SMS Sent  \\\n",
       "3271             0                             0                       0   \n",
       "1490             0                             0                       0   \n",
       "7936             0                             0                       0   \n",
       "4216             0                             0                       0   \n",
       "3830             0                             0                       0   \n",
       "\n",
       "      Last Notable Activity_Modified  Tags_Busy  Tags_Closed by Horizzon  \\\n",
       "3271                               0          0                        0   \n",
       "1490                               0          0                        0   \n",
       "7936                               0          0                        0   \n",
       "4216                               1          0                        1   \n",
       "3830                               0          0                        0   \n",
       "\n",
       "      Tags_Lost to EINS  Tags_Not Given  Tags_Ringing  \\\n",
       "3271                  0               1             0   \n",
       "1490                  0               0             0   \n",
       "7936                  0               1             0   \n",
       "4216                  0               0             0   \n",
       "3830                  0               1             0   \n",
       "\n",
       "      Tags_Will revert after reading the email  Tags_switched off  \n",
       "3271                                         0                  0  \n",
       "1490                                         1                  0  \n",
       "7936                                         0                  0  \n",
       "4216                                         0                  0  \n",
       "3830                                         0                  0  "
      ]
     },
     "execution_count": 95,
     "metadata": {},
     "output_type": "execute_result"
    }
   ],
   "source": [
    "# Scaling the variables.\n",
    "\n",
    "scaler = StandardScaler()\n",
    "\n",
    "Num_cols = [\"TotalVisits\", \"Total Time Spent on Website\",\"Page Views Per Visit\"]\n",
    "\n",
    "X_test[Num_cols] = scaler.fit_transform(X_test[Num_cols])\n",
    "X_test = X_test[vif_cols]\n",
    "X_test.head()"
   ]
  },
  {
   "cell_type": "code",
   "execution_count": 96,
   "id": "604bb63a",
   "metadata": {},
   "outputs": [],
   "source": [
    "X_test_sm = sm.add_constant(X_test)"
   ]
  },
  {
   "cell_type": "code",
   "execution_count": 97,
   "id": "15a486f9",
   "metadata": {},
   "outputs": [
    {
     "data": {
      "text/plain": [
       "3271    0.217580\n",
       "1490    0.975434\n",
       "7936    0.217580\n",
       "4216    0.982839\n",
       "3830    0.217580\n",
       "          ...   \n",
       "850     0.043762\n",
       "2879    0.006670\n",
       "6501    0.997095\n",
       "7155    0.043762\n",
       "376     0.043762\n",
       "Length: 2723, dtype: float64"
      ]
     },
     "execution_count": 97,
     "metadata": {},
     "output_type": "execute_result"
    }
   ],
   "source": [
    "y_test_pred = res5.predict(X_test_sm)\n",
    "y_test_pred"
   ]
  },
  {
   "cell_type": "code",
   "execution_count": 100,
   "id": "2be73222",
   "metadata": {},
   "outputs": [],
   "source": [
    "y_pred_final = pd.DataFrame()\n",
    "y_pred_final['Converted_pred']=pd.DataFrame(y_test_pred.values.reshape(-1))\n"
   ]
  },
  {
   "cell_type": "code",
   "execution_count": 103,
   "id": "bb8f5b40",
   "metadata": {},
   "outputs": [],
   "source": [
    "y_pred_final['Converted']= y_test.values.reshape(-1)\n",
    "y_pred_final['Prospect ID'] = y_test.index\n"
   ]
  },
  {
   "cell_type": "code",
   "execution_count": 104,
   "id": "6e22e627",
   "metadata": {},
   "outputs": [
    {
     "data": {
      "text/html": [
       "<div>\n",
       "<style scoped>\n",
       "    .dataframe tbody tr th:only-of-type {\n",
       "        vertical-align: middle;\n",
       "    }\n",
       "\n",
       "    .dataframe tbody tr th {\n",
       "        vertical-align: top;\n",
       "    }\n",
       "\n",
       "    .dataframe thead th {\n",
       "        text-align: right;\n",
       "    }\n",
       "</style>\n",
       "<table border=\"1\" class=\"dataframe\">\n",
       "  <thead>\n",
       "    <tr style=\"text-align: right;\">\n",
       "      <th></th>\n",
       "      <th>Converted_pred</th>\n",
       "      <th>Converted</th>\n",
       "      <th>Prospect ID</th>\n",
       "      <th>final_predicted</th>\n",
       "    </tr>\n",
       "  </thead>\n",
       "  <tbody>\n",
       "    <tr>\n",
       "      <th>0</th>\n",
       "      <td>0.217580</td>\n",
       "      <td>0</td>\n",
       "      <td>3271</td>\n",
       "      <td>0</td>\n",
       "    </tr>\n",
       "    <tr>\n",
       "      <th>1</th>\n",
       "      <td>0.975434</td>\n",
       "      <td>1</td>\n",
       "      <td>1490</td>\n",
       "      <td>1</td>\n",
       "    </tr>\n",
       "    <tr>\n",
       "      <th>2</th>\n",
       "      <td>0.217580</td>\n",
       "      <td>0</td>\n",
       "      <td>7936</td>\n",
       "      <td>0</td>\n",
       "    </tr>\n",
       "    <tr>\n",
       "      <th>3</th>\n",
       "      <td>0.982839</td>\n",
       "      <td>1</td>\n",
       "      <td>4216</td>\n",
       "      <td>1</td>\n",
       "    </tr>\n",
       "    <tr>\n",
       "      <th>4</th>\n",
       "      <td>0.217580</td>\n",
       "      <td>0</td>\n",
       "      <td>3830</td>\n",
       "      <td>0</td>\n",
       "    </tr>\n",
       "    <tr>\n",
       "      <th>...</th>\n",
       "      <td>...</td>\n",
       "      <td>...</td>\n",
       "      <td>...</td>\n",
       "      <td>...</td>\n",
       "    </tr>\n",
       "    <tr>\n",
       "      <th>2718</th>\n",
       "      <td>0.043762</td>\n",
       "      <td>0</td>\n",
       "      <td>850</td>\n",
       "      <td>0</td>\n",
       "    </tr>\n",
       "    <tr>\n",
       "      <th>2719</th>\n",
       "      <td>0.006670</td>\n",
       "      <td>0</td>\n",
       "      <td>2879</td>\n",
       "      <td>0</td>\n",
       "    </tr>\n",
       "    <tr>\n",
       "      <th>2720</th>\n",
       "      <td>0.997095</td>\n",
       "      <td>1</td>\n",
       "      <td>6501</td>\n",
       "      <td>1</td>\n",
       "    </tr>\n",
       "    <tr>\n",
       "      <th>2721</th>\n",
       "      <td>0.043762</td>\n",
       "      <td>0</td>\n",
       "      <td>7155</td>\n",
       "      <td>0</td>\n",
       "    </tr>\n",
       "    <tr>\n",
       "      <th>2722</th>\n",
       "      <td>0.043762</td>\n",
       "      <td>0</td>\n",
       "      <td>376</td>\n",
       "      <td>0</td>\n",
       "    </tr>\n",
       "  </tbody>\n",
       "</table>\n",
       "<p>2723 rows × 4 columns</p>\n",
       "</div>"
      ],
      "text/plain": [
       "      Converted_pred  Converted  Prospect ID  final_predicted\n",
       "0           0.217580          0         3271                0\n",
       "1           0.975434          1         1490                1\n",
       "2           0.217580          0         7936                0\n",
       "3           0.982839          1         4216                1\n",
       "4           0.217580          0         3830                0\n",
       "...              ...        ...          ...              ...\n",
       "2718        0.043762          0          850                0\n",
       "2719        0.006670          0         2879                0\n",
       "2720        0.997095          1         6501                1\n",
       "2721        0.043762          0         7155                0\n",
       "2722        0.043762          0          376                0\n",
       "\n",
       "[2723 rows x 4 columns]"
      ]
     },
     "execution_count": 104,
     "metadata": {},
     "output_type": "execute_result"
    }
   ],
   "source": [
    "# Getting the final_predicted values with 0.4 cutoff point.\n",
    "\n",
    "y_pred_final[\"final_predicted\"] = y_pred_final.Converted_pred.map(lambda x: 1 if x > 0.3 else 0)\n",
    "y_pred_final"
   ]
  },
  {
   "cell_type": "markdown",
   "id": "04512086",
   "metadata": {},
   "source": [
    "### Model Evaluation"
   ]
  },
  {
   "cell_type": "code",
   "execution_count": 105,
   "id": "e3f71ff6",
   "metadata": {},
   "outputs": [],
   "source": [
    "from sklearn.metrics import accuracy_score, classification_report, confusion_matrix, precision_score, recall_score\n"
   ]
  },
  {
   "cell_type": "code",
   "execution_count": 106,
   "id": "52ba4fac",
   "metadata": {},
   "outputs": [
    {
     "data": {
      "text/plain": [
       "0.9225119353654058"
      ]
     },
     "execution_count": 106,
     "metadata": {},
     "output_type": "execute_result"
    }
   ],
   "source": [
    "accuracy_score(y_pred_final['Converted'], y_pred_final['final_predicted'])"
   ]
  },
  {
   "cell_type": "code",
   "execution_count": 107,
   "id": "9d2aa64d",
   "metadata": {},
   "outputs": [
    {
     "name": "stdout",
     "output_type": "stream",
     "text": [
      "              precision    recall  f1-score   support\n",
      "\n",
      "           0       0.93      0.95      0.94      1734\n",
      "           1       0.91      0.87      0.89       989\n",
      "\n",
      "    accuracy                           0.92      2723\n",
      "   macro avg       0.92      0.91      0.92      2723\n",
      "weighted avg       0.92      0.92      0.92      2723\n",
      "\n"
     ]
    }
   ],
   "source": [
    "print(classification_report(y_pred_final['Converted'], y_pred_final['final_predicted']))"
   ]
  },
  {
   "cell_type": "code",
   "execution_count": 108,
   "id": "d1b24edd",
   "metadata": {},
   "outputs": [
    {
     "data": {
      "text/plain": [
       "array([[1652,   82],\n",
       "       [ 129,  860]], dtype=int64)"
      ]
     },
     "execution_count": 108,
     "metadata": {},
     "output_type": "execute_result"
    }
   ],
   "source": [
    "confusion2=confusion_matrix(y_pred_final['Converted'], y_pred_final['final_predicted'])\n",
    "confusion2"
   ]
  },
  {
   "cell_type": "code",
   "execution_count": 109,
   "id": "c382d4ea",
   "metadata": {},
   "outputs": [],
   "source": [
    "# Creating TP, TN, FP, FN.\n",
    "\n",
    "TP = confusion2[1,1] \n",
    "TN = confusion2[0,0]\n",
    "FP = confusion2[0,1]\n",
    "FN = confusion2[1,0]"
   ]
  },
  {
   "cell_type": "code",
   "execution_count": 110,
   "id": "fc5ccad4",
   "metadata": {},
   "outputs": [
    {
     "data": {
      "text/plain": [
       "0.8695652173913043"
      ]
     },
     "execution_count": 110,
     "metadata": {},
     "output_type": "execute_result"
    }
   ],
   "source": [
    "# Let's check the sensitivity.\n",
    "\n",
    "TP / float(TP+FN)"
   ]
  },
  {
   "cell_type": "code",
   "execution_count": 111,
   "id": "542c48b4",
   "metadata": {},
   "outputs": [
    {
     "data": {
      "text/plain": [
       "0.9527104959630911"
      ]
     },
     "execution_count": 111,
     "metadata": {},
     "output_type": "execute_result"
    }
   ],
   "source": [
    "# Let's check the specificity.\n",
    "\n",
    "TN / float(TN+FP)"
   ]
  },
  {
   "cell_type": "code",
   "execution_count": 112,
   "id": "5fddb4cb",
   "metadata": {},
   "outputs": [
    {
     "data": {
      "text/plain": [
       "0.9129511677282378"
      ]
     },
     "execution_count": 112,
     "metadata": {},
     "output_type": "execute_result"
    }
   ],
   "source": [
    "# Precision score.\n",
    "\n",
    "precision_score(y_pred_final.Converted , y_pred_final.final_predicted)"
   ]
  },
  {
   "cell_type": "code",
   "execution_count": 113,
   "id": "587aefd2",
   "metadata": {},
   "outputs": [
    {
     "data": {
      "text/plain": [
       "0.8695652173913043"
      ]
     },
     "execution_count": 113,
     "metadata": {},
     "output_type": "execute_result"
    }
   ],
   "source": [
    "# Recall Score.\n",
    "\n",
    "recall_score(y_pred_final.Converted, y_pred_final.final_predicted)"
   ]
  },
  {
   "cell_type": "code",
   "execution_count": null,
   "id": "eda02ffb",
   "metadata": {},
   "outputs": [],
   "source": [
    "# Let's check the False Positive Rate - predicting customer as converted lead when the customer has not actually converted.\n",
    "\n",
    "print(FP/ float(TN+FP))"
   ]
  },
  {
   "cell_type": "markdown",
   "id": "2459a7df",
   "metadata": {},
   "source": [
    "- On running the model on test dataset we have the following observation values:\n",
    "    - Accuracy : 92%\n",
    "    - Sensitivity : 86.9%\n",
    "    - Specificity : 95%"
   ]
  },
  {
   "cell_type": "markdown",
   "id": "a3cfff39",
   "metadata": {},
   "source": [
    "## Final Observation"
   ]
  },
  {
   "cell_type": "markdown",
   "id": "4a759d89",
   "metadata": {},
   "source": [
    "### Train Dataset\n",
    "- Accuracy : 92%\n",
    "- Sensitivity : 87%\n",
    "- Specificity : 95%\n",
    "- Precision score: 92\n",
    "- Recall score: 87"
   ]
  },
  {
   "cell_type": "markdown",
   "id": "9ee54ad7",
   "metadata": {},
   "source": [
    "### Test Dataset\n",
    "- Accuracy : 91.8%\n",
    "- Sensitivity : 85%\n",
    "- Specificity : 95%\n",
    "- Precision score: 91\n",
    "- Recall score: 86.9"
   ]
  },
  {
   "cell_type": "markdown",
   "id": "0e85ee8f",
   "metadata": {},
   "source": [
    "### Feature Variables\n",
    "- Last Activity_SMS Sent\n",
    "- Tags_Not Given\n",
    "- Last Notable Activity_Modified\n",
    "- Tags_Will revert after reading the email\n",
    "- Tags_Ringing\n",
    "- Do Not Email\n",
    "- Lead Source_Welingak Website\n",
    "- Tags_Busy\n",
    "- Tags_Closed by Horizzon\n",
    "- Tags_switched off\n",
    "- Tags_Lost to EINS"
   ]
  },
  {
   "cell_type": "code",
   "execution_count": null,
   "id": "ced426a3",
   "metadata": {},
   "outputs": [],
   "source": []
  }
 ],
 "metadata": {
  "kernelspec": {
   "display_name": "Python 3 (ipykernel)",
   "language": "python",
   "name": "python3"
  },
  "language_info": {
   "codemirror_mode": {
    "name": "ipython",
    "version": 3
   },
   "file_extension": ".py",
   "mimetype": "text/x-python",
   "name": "python",
   "nbconvert_exporter": "python",
   "pygments_lexer": "ipython3",
   "version": "3.9.7"
  }
 },
 "nbformat": 4,
 "nbformat_minor": 5
}
